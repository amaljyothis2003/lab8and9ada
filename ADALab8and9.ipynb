{
  "cells": [
    {
      "cell_type": "code",
      "execution_count": 3,
      "metadata": {
        "id": "55VES1SQ0hAH"
      },
      "outputs": [],
      "source": [
        "import pandas as pd\n"
      ]
    },
    {
      "cell_type": "code",
      "execution_count": 4,
      "metadata": {
        "id": "ONetwuei0uxK"
      },
      "outputs": [],
      "source": [
        "# df = pd.read_csv('/content/diabetic_data.csv')\n",
        "df = pd.read_csv(\"diabetic_data.csv\")\n"
      ]
    },
    {
      "cell_type": "code",
      "execution_count": 5,
      "metadata": {
        "colab": {
          "base_uri": "https://localhost:8080/",
          "height": 0
        },
        "id": "jCIB4bfA17BJ",
        "outputId": "5b63bc4d-3357-4aa6-d0fe-62ce83ad2ebe"
      },
      "outputs": [
        {
          "name": "stdout",
          "output_type": "stream",
          "text": [
            "<class 'pandas.core.frame.DataFrame'>\n",
            "RangeIndex: 101766 entries, 0 to 101765\n",
            "Data columns (total 50 columns):\n",
            " #   Column                    Non-Null Count   Dtype \n",
            "---  ------                    --------------   ----- \n",
            " 0   encounter_id              101766 non-null  int64 \n",
            " 1   patient_nbr               101766 non-null  int64 \n",
            " 2   race                      101766 non-null  object\n",
            " 3   gender                    101766 non-null  object\n",
            " 4   age                       101766 non-null  object\n",
            " 5   weight                    101766 non-null  object\n",
            " 6   admission_type_id         101766 non-null  int64 \n",
            " 7   discharge_disposition_id  101766 non-null  int64 \n",
            " 8   admission_source_id       101766 non-null  int64 \n",
            " 9   time_in_hospital          101766 non-null  int64 \n",
            " 10  payer_code                101766 non-null  object\n",
            " 11  medical_specialty         101766 non-null  object\n",
            " 12  num_lab_procedures        101766 non-null  int64 \n",
            " 13  num_procedures            101766 non-null  int64 \n",
            " 14  num_medications           101766 non-null  int64 \n",
            " 15  number_outpatient         101766 non-null  int64 \n",
            " 16  number_emergency          101766 non-null  int64 \n",
            " 17  number_inpatient          101766 non-null  int64 \n",
            " 18  diag_1                    101766 non-null  object\n",
            " 19  diag_2                    101766 non-null  object\n",
            " 20  diag_3                    101766 non-null  object\n",
            " 21  number_diagnoses          101766 non-null  int64 \n",
            " 22  max_glu_serum             5346 non-null    object\n",
            " 23  A1Cresult                 17018 non-null   object\n",
            " 24  metformin                 101766 non-null  object\n",
            " 25  repaglinide               101766 non-null  object\n",
            " 26  nateglinide               101766 non-null  object\n",
            " 27  chlorpropamide            101766 non-null  object\n",
            " 28  glimepiride               101766 non-null  object\n",
            " 29  acetohexamide             101766 non-null  object\n",
            " 30  glipizide                 101766 non-null  object\n",
            " 31  glyburide                 101766 non-null  object\n",
            " 32  tolbutamide               101766 non-null  object\n",
            " 33  pioglitazone              101766 non-null  object\n",
            " 34  rosiglitazone             101766 non-null  object\n",
            " 35  acarbose                  101766 non-null  object\n",
            " 36  miglitol                  101766 non-null  object\n",
            " 37  troglitazone              101766 non-null  object\n",
            " 38  tolazamide                101766 non-null  object\n",
            " 39  examide                   101766 non-null  object\n",
            " 40  citoglipton               101766 non-null  object\n",
            " 41  insulin                   101766 non-null  object\n",
            " 42  glyburide-metformin       101766 non-null  object\n",
            " 43  glipizide-metformin       101766 non-null  object\n",
            " 44  glimepiride-pioglitazone  101766 non-null  object\n",
            " 45  metformin-rosiglitazone   101766 non-null  object\n",
            " 46  metformin-pioglitazone    101766 non-null  object\n",
            " 47  change                    101766 non-null  object\n",
            " 48  diabetesMed               101766 non-null  object\n",
            " 49  readmitted                101766 non-null  object\n",
            "dtypes: int64(13), object(37)\n",
            "memory usage: 38.8+ MB\n"
          ]
        }
      ],
      "source": [
        "df.info()"
      ]
    },
    {
      "cell_type": "code",
      "execution_count": 6,
      "metadata": {
        "colab": {
          "base_uri": "https://localhost:8080/",
          "height": 603
        },
        "id": "dx5AQNfh3wj9",
        "outputId": "f2b69608-0fc3-4ea1-c8ac-52857719f754"
      },
      "outputs": [
        {
          "data": {
            "text/html": [
              "<div>\n",
              "<style scoped>\n",
              "    .dataframe tbody tr th:only-of-type {\n",
              "        vertical-align: middle;\n",
              "    }\n",
              "\n",
              "    .dataframe tbody tr th {\n",
              "        vertical-align: top;\n",
              "    }\n",
              "\n",
              "    .dataframe thead th {\n",
              "        text-align: right;\n",
              "    }\n",
              "</style>\n",
              "<table border=\"1\" class=\"dataframe\">\n",
              "  <thead>\n",
              "    <tr style=\"text-align: right;\">\n",
              "      <th></th>\n",
              "      <th>encounter_id</th>\n",
              "      <th>patient_nbr</th>\n",
              "      <th>race</th>\n",
              "      <th>gender</th>\n",
              "      <th>age</th>\n",
              "      <th>weight</th>\n",
              "      <th>admission_type_id</th>\n",
              "      <th>discharge_disposition_id</th>\n",
              "      <th>admission_source_id</th>\n",
              "      <th>time_in_hospital</th>\n",
              "      <th>...</th>\n",
              "      <th>citoglipton</th>\n",
              "      <th>insulin</th>\n",
              "      <th>glyburide-metformin</th>\n",
              "      <th>glipizide-metformin</th>\n",
              "      <th>glimepiride-pioglitazone</th>\n",
              "      <th>metformin-rosiglitazone</th>\n",
              "      <th>metformin-pioglitazone</th>\n",
              "      <th>change</th>\n",
              "      <th>diabetesMed</th>\n",
              "      <th>readmitted</th>\n",
              "    </tr>\n",
              "  </thead>\n",
              "  <tbody>\n",
              "    <tr>\n",
              "      <th>0</th>\n",
              "      <td>2278392</td>\n",
              "      <td>8222157</td>\n",
              "      <td>Caucasian</td>\n",
              "      <td>Female</td>\n",
              "      <td>[0-10)</td>\n",
              "      <td>?</td>\n",
              "      <td>6</td>\n",
              "      <td>25</td>\n",
              "      <td>1</td>\n",
              "      <td>1</td>\n",
              "      <td>...</td>\n",
              "      <td>No</td>\n",
              "      <td>No</td>\n",
              "      <td>No</td>\n",
              "      <td>No</td>\n",
              "      <td>No</td>\n",
              "      <td>No</td>\n",
              "      <td>No</td>\n",
              "      <td>No</td>\n",
              "      <td>No</td>\n",
              "      <td>NO</td>\n",
              "    </tr>\n",
              "    <tr>\n",
              "      <th>1</th>\n",
              "      <td>149190</td>\n",
              "      <td>55629189</td>\n",
              "      <td>Caucasian</td>\n",
              "      <td>Female</td>\n",
              "      <td>[10-20)</td>\n",
              "      <td>?</td>\n",
              "      <td>1</td>\n",
              "      <td>1</td>\n",
              "      <td>7</td>\n",
              "      <td>3</td>\n",
              "      <td>...</td>\n",
              "      <td>No</td>\n",
              "      <td>Up</td>\n",
              "      <td>No</td>\n",
              "      <td>No</td>\n",
              "      <td>No</td>\n",
              "      <td>No</td>\n",
              "      <td>No</td>\n",
              "      <td>Ch</td>\n",
              "      <td>Yes</td>\n",
              "      <td>&gt;30</td>\n",
              "    </tr>\n",
              "    <tr>\n",
              "      <th>2</th>\n",
              "      <td>64410</td>\n",
              "      <td>86047875</td>\n",
              "      <td>AfricanAmerican</td>\n",
              "      <td>Female</td>\n",
              "      <td>[20-30)</td>\n",
              "      <td>?</td>\n",
              "      <td>1</td>\n",
              "      <td>1</td>\n",
              "      <td>7</td>\n",
              "      <td>2</td>\n",
              "      <td>...</td>\n",
              "      <td>No</td>\n",
              "      <td>No</td>\n",
              "      <td>No</td>\n",
              "      <td>No</td>\n",
              "      <td>No</td>\n",
              "      <td>No</td>\n",
              "      <td>No</td>\n",
              "      <td>No</td>\n",
              "      <td>Yes</td>\n",
              "      <td>NO</td>\n",
              "    </tr>\n",
              "    <tr>\n",
              "      <th>3</th>\n",
              "      <td>500364</td>\n",
              "      <td>82442376</td>\n",
              "      <td>Caucasian</td>\n",
              "      <td>Male</td>\n",
              "      <td>[30-40)</td>\n",
              "      <td>?</td>\n",
              "      <td>1</td>\n",
              "      <td>1</td>\n",
              "      <td>7</td>\n",
              "      <td>2</td>\n",
              "      <td>...</td>\n",
              "      <td>No</td>\n",
              "      <td>Up</td>\n",
              "      <td>No</td>\n",
              "      <td>No</td>\n",
              "      <td>No</td>\n",
              "      <td>No</td>\n",
              "      <td>No</td>\n",
              "      <td>Ch</td>\n",
              "      <td>Yes</td>\n",
              "      <td>NO</td>\n",
              "    </tr>\n",
              "    <tr>\n",
              "      <th>4</th>\n",
              "      <td>16680</td>\n",
              "      <td>42519267</td>\n",
              "      <td>Caucasian</td>\n",
              "      <td>Male</td>\n",
              "      <td>[40-50)</td>\n",
              "      <td>?</td>\n",
              "      <td>1</td>\n",
              "      <td>1</td>\n",
              "      <td>7</td>\n",
              "      <td>1</td>\n",
              "      <td>...</td>\n",
              "      <td>No</td>\n",
              "      <td>Steady</td>\n",
              "      <td>No</td>\n",
              "      <td>No</td>\n",
              "      <td>No</td>\n",
              "      <td>No</td>\n",
              "      <td>No</td>\n",
              "      <td>Ch</td>\n",
              "      <td>Yes</td>\n",
              "      <td>NO</td>\n",
              "    </tr>\n",
              "    <tr>\n",
              "      <th>5</th>\n",
              "      <td>35754</td>\n",
              "      <td>82637451</td>\n",
              "      <td>Caucasian</td>\n",
              "      <td>Male</td>\n",
              "      <td>[50-60)</td>\n",
              "      <td>?</td>\n",
              "      <td>2</td>\n",
              "      <td>1</td>\n",
              "      <td>2</td>\n",
              "      <td>3</td>\n",
              "      <td>...</td>\n",
              "      <td>No</td>\n",
              "      <td>Steady</td>\n",
              "      <td>No</td>\n",
              "      <td>No</td>\n",
              "      <td>No</td>\n",
              "      <td>No</td>\n",
              "      <td>No</td>\n",
              "      <td>No</td>\n",
              "      <td>Yes</td>\n",
              "      <td>&gt;30</td>\n",
              "    </tr>\n",
              "    <tr>\n",
              "      <th>6</th>\n",
              "      <td>55842</td>\n",
              "      <td>84259809</td>\n",
              "      <td>Caucasian</td>\n",
              "      <td>Male</td>\n",
              "      <td>[60-70)</td>\n",
              "      <td>?</td>\n",
              "      <td>3</td>\n",
              "      <td>1</td>\n",
              "      <td>2</td>\n",
              "      <td>4</td>\n",
              "      <td>...</td>\n",
              "      <td>No</td>\n",
              "      <td>Steady</td>\n",
              "      <td>No</td>\n",
              "      <td>No</td>\n",
              "      <td>No</td>\n",
              "      <td>No</td>\n",
              "      <td>No</td>\n",
              "      <td>Ch</td>\n",
              "      <td>Yes</td>\n",
              "      <td>NO</td>\n",
              "    </tr>\n",
              "    <tr>\n",
              "      <th>7</th>\n",
              "      <td>63768</td>\n",
              "      <td>114882984</td>\n",
              "      <td>Caucasian</td>\n",
              "      <td>Male</td>\n",
              "      <td>[70-80)</td>\n",
              "      <td>?</td>\n",
              "      <td>1</td>\n",
              "      <td>1</td>\n",
              "      <td>7</td>\n",
              "      <td>5</td>\n",
              "      <td>...</td>\n",
              "      <td>No</td>\n",
              "      <td>No</td>\n",
              "      <td>No</td>\n",
              "      <td>No</td>\n",
              "      <td>No</td>\n",
              "      <td>No</td>\n",
              "      <td>No</td>\n",
              "      <td>No</td>\n",
              "      <td>Yes</td>\n",
              "      <td>&gt;30</td>\n",
              "    </tr>\n",
              "    <tr>\n",
              "      <th>8</th>\n",
              "      <td>12522</td>\n",
              "      <td>48330783</td>\n",
              "      <td>Caucasian</td>\n",
              "      <td>Female</td>\n",
              "      <td>[80-90)</td>\n",
              "      <td>?</td>\n",
              "      <td>2</td>\n",
              "      <td>1</td>\n",
              "      <td>4</td>\n",
              "      <td>13</td>\n",
              "      <td>...</td>\n",
              "      <td>No</td>\n",
              "      <td>Steady</td>\n",
              "      <td>No</td>\n",
              "      <td>No</td>\n",
              "      <td>No</td>\n",
              "      <td>No</td>\n",
              "      <td>No</td>\n",
              "      <td>Ch</td>\n",
              "      <td>Yes</td>\n",
              "      <td>NO</td>\n",
              "    </tr>\n",
              "    <tr>\n",
              "      <th>9</th>\n",
              "      <td>15738</td>\n",
              "      <td>63555939</td>\n",
              "      <td>Caucasian</td>\n",
              "      <td>Female</td>\n",
              "      <td>[90-100)</td>\n",
              "      <td>?</td>\n",
              "      <td>3</td>\n",
              "      <td>3</td>\n",
              "      <td>4</td>\n",
              "      <td>12</td>\n",
              "      <td>...</td>\n",
              "      <td>No</td>\n",
              "      <td>Steady</td>\n",
              "      <td>No</td>\n",
              "      <td>No</td>\n",
              "      <td>No</td>\n",
              "      <td>No</td>\n",
              "      <td>No</td>\n",
              "      <td>Ch</td>\n",
              "      <td>Yes</td>\n",
              "      <td>NO</td>\n",
              "    </tr>\n",
              "  </tbody>\n",
              "</table>\n",
              "<p>10 rows × 50 columns</p>\n",
              "</div>"
            ],
            "text/plain": [
              "   encounter_id  patient_nbr             race  gender       age weight  \\\n",
              "0       2278392      8222157        Caucasian  Female    [0-10)      ?   \n",
              "1        149190     55629189        Caucasian  Female   [10-20)      ?   \n",
              "2         64410     86047875  AfricanAmerican  Female   [20-30)      ?   \n",
              "3        500364     82442376        Caucasian    Male   [30-40)      ?   \n",
              "4         16680     42519267        Caucasian    Male   [40-50)      ?   \n",
              "5         35754     82637451        Caucasian    Male   [50-60)      ?   \n",
              "6         55842     84259809        Caucasian    Male   [60-70)      ?   \n",
              "7         63768    114882984        Caucasian    Male   [70-80)      ?   \n",
              "8         12522     48330783        Caucasian  Female   [80-90)      ?   \n",
              "9         15738     63555939        Caucasian  Female  [90-100)      ?   \n",
              "\n",
              "   admission_type_id  discharge_disposition_id  admission_source_id  \\\n",
              "0                  6                        25                    1   \n",
              "1                  1                         1                    7   \n",
              "2                  1                         1                    7   \n",
              "3                  1                         1                    7   \n",
              "4                  1                         1                    7   \n",
              "5                  2                         1                    2   \n",
              "6                  3                         1                    2   \n",
              "7                  1                         1                    7   \n",
              "8                  2                         1                    4   \n",
              "9                  3                         3                    4   \n",
              "\n",
              "   time_in_hospital  ... citoglipton insulin  glyburide-metformin  \\\n",
              "0                 1  ...          No      No                   No   \n",
              "1                 3  ...          No      Up                   No   \n",
              "2                 2  ...          No      No                   No   \n",
              "3                 2  ...          No      Up                   No   \n",
              "4                 1  ...          No  Steady                   No   \n",
              "5                 3  ...          No  Steady                   No   \n",
              "6                 4  ...          No  Steady                   No   \n",
              "7                 5  ...          No      No                   No   \n",
              "8                13  ...          No  Steady                   No   \n",
              "9                12  ...          No  Steady                   No   \n",
              "\n",
              "   glipizide-metformin  glimepiride-pioglitazone  metformin-rosiglitazone  \\\n",
              "0                   No                        No                       No   \n",
              "1                   No                        No                       No   \n",
              "2                   No                        No                       No   \n",
              "3                   No                        No                       No   \n",
              "4                   No                        No                       No   \n",
              "5                   No                        No                       No   \n",
              "6                   No                        No                       No   \n",
              "7                   No                        No                       No   \n",
              "8                   No                        No                       No   \n",
              "9                   No                        No                       No   \n",
              "\n",
              "   metformin-pioglitazone  change diabetesMed readmitted  \n",
              "0                      No      No          No         NO  \n",
              "1                      No      Ch         Yes        >30  \n",
              "2                      No      No         Yes         NO  \n",
              "3                      No      Ch         Yes         NO  \n",
              "4                      No      Ch         Yes         NO  \n",
              "5                      No      No         Yes        >30  \n",
              "6                      No      Ch         Yes         NO  \n",
              "7                      No      No         Yes        >30  \n",
              "8                      No      Ch         Yes         NO  \n",
              "9                      No      Ch         Yes         NO  \n",
              "\n",
              "[10 rows x 50 columns]"
            ]
          },
          "execution_count": 6,
          "metadata": {},
          "output_type": "execute_result"
        }
      ],
      "source": [
        "df.head(10)"
      ]
    },
    {
      "cell_type": "code",
      "execution_count": 7,
      "metadata": {
        "colab": {
          "base_uri": "https://localhost:8080/",
          "height": 0
        },
        "id": "f492e6e0",
        "outputId": "280e40ae-05a8-4c45-d285-43ac74ba2356"
      },
      "outputs": [
        {
          "name": "stdout",
          "output_type": "stream",
          "text": [
            "Column 'race': 2273 '?' values\n",
            "Column 'weight': 98569 '?' values\n",
            "Column 'payer_code': 40256 '?' values\n",
            "Column 'medical_specialty': 49949 '?' values\n",
            "Column 'diag_1': 21 '?' values\n",
            "Column 'diag_2': 358 '?' values\n",
            "Column 'diag_3': 1423 '?' values\n"
          ]
        }
      ],
      "source": [
        "for col in df.columns:\n",
        "    count = (df[col] == '?').sum()\n",
        "    if count > 0:\n",
        "        print(f\"Column '{col}': {count} '?' values\")"
      ]
    },
    {
      "cell_type": "code",
      "execution_count": 8,
      "metadata": {
        "id": "39aa6a03"
      },
      "outputs": [],
      "source": [
        "drop_cols = [\n",
        "    'encounter_id',\n",
        "    'patient_nbr',\n",
        "    'weight',\n",
        "    'payer_code',\n",
        "    'medical_specialty',\n",
        "    'acetohexamide',\n",
        "    'tolbutamide',\n",
        "    'troglitazone',\n",
        "    'tolazamide',\n",
        "    'examide',\n",
        "    'citoglipton',\n",
        "    'max_glu_serum',\n",
        "    'A1Cresult'\n",
        "]\n",
        "\n",
        "df = df.drop(columns=drop_cols)"
      ]
    },
    {
      "cell_type": "code",
      "execution_count": 9,
      "metadata": {
        "colab": {
          "base_uri": "https://localhost:8080/",
          "height": 0
        },
        "id": "QSolXV_P0BLo",
        "outputId": "1c3febfe-db2a-4b0a-c413-358ace55499e"
      },
      "outputs": [
        {
          "name": "stdout",
          "output_type": "stream",
          "text": [
            "<class 'pandas.core.frame.DataFrame'>\n",
            "RangeIndex: 101766 entries, 0 to 101765\n",
            "Data columns (total 37 columns):\n",
            " #   Column                    Non-Null Count   Dtype \n",
            "---  ------                    --------------   ----- \n",
            " 0   race                      101766 non-null  object\n",
            " 1   gender                    101766 non-null  object\n",
            " 2   age                       101766 non-null  object\n",
            " 3   admission_type_id         101766 non-null  int64 \n",
            " 4   discharge_disposition_id  101766 non-null  int64 \n",
            " 5   admission_source_id       101766 non-null  int64 \n",
            " 6   time_in_hospital          101766 non-null  int64 \n",
            " 7   num_lab_procedures        101766 non-null  int64 \n",
            " 8   num_procedures            101766 non-null  int64 \n",
            " 9   num_medications           101766 non-null  int64 \n",
            " 10  number_outpatient         101766 non-null  int64 \n",
            " 11  number_emergency          101766 non-null  int64 \n",
            " 12  number_inpatient          101766 non-null  int64 \n",
            " 13  diag_1                    101766 non-null  object\n",
            " 14  diag_2                    101766 non-null  object\n",
            " 15  diag_3                    101766 non-null  object\n",
            " 16  number_diagnoses          101766 non-null  int64 \n",
            " 17  metformin                 101766 non-null  object\n",
            " 18  repaglinide               101766 non-null  object\n",
            " 19  nateglinide               101766 non-null  object\n",
            " 20  chlorpropamide            101766 non-null  object\n",
            " 21  glimepiride               101766 non-null  object\n",
            " 22  glipizide                 101766 non-null  object\n",
            " 23  glyburide                 101766 non-null  object\n",
            " 24  pioglitazone              101766 non-null  object\n",
            " 25  rosiglitazone             101766 non-null  object\n",
            " 26  acarbose                  101766 non-null  object\n",
            " 27  miglitol                  101766 non-null  object\n",
            " 28  insulin                   101766 non-null  object\n",
            " 29  glyburide-metformin       101766 non-null  object\n",
            " 30  glipizide-metformin       101766 non-null  object\n",
            " 31  glimepiride-pioglitazone  101766 non-null  object\n",
            " 32  metformin-rosiglitazone   101766 non-null  object\n",
            " 33  metformin-pioglitazone    101766 non-null  object\n",
            " 34  change                    101766 non-null  object\n",
            " 35  diabetesMed               101766 non-null  object\n",
            " 36  readmitted                101766 non-null  object\n",
            "dtypes: int64(11), object(26)\n",
            "memory usage: 28.7+ MB\n"
          ]
        }
      ],
      "source": [
        "df.info()"
      ]
    },
    {
      "cell_type": "markdown",
      "metadata": {
        "id": "d460f4e7"
      },
      "source": [
        "# Task\n",
        "Replace missing values represented by '?' in the columns `race`, `diag_1`, `diag_2`, and `diag_3` of the file \"diabetic_data.csv\" based on other columns in the dataset."
      ]
    },
    {
      "cell_type": "markdown",
      "metadata": {
        "id": "223be97d"
      },
      "source": [
        "## Analyze missing values\n",
        "\n",
        "### Subtask:\n",
        "Inspect the data to understand the distribution of missing values in `race`, `diag_1`, `diag_2`, and `diag_3`.\n"
      ]
    },
    {
      "cell_type": "markdown",
      "metadata": {
        "id": "20891395"
      },
      "source": [
        "**Reasoning**:\n",
        "Count the number of '?' values in the specified columns to understand the distribution of missing data.\n",
        "\n"
      ]
    },
    {
      "cell_type": "code",
      "execution_count": 10,
      "metadata": {
        "colab": {
          "base_uri": "https://localhost:8080/",
          "height": 0
        },
        "id": "229b87f9",
        "outputId": "e2e65f6a-96a2-4551-d8e3-70a58821c683"
      },
      "outputs": [
        {
          "name": "stdout",
          "output_type": "stream",
          "text": [
            "Column 'race': 2273 '?' values\n",
            "Column 'diag_1': 21 '?' values\n",
            "Column 'diag_2': 358 '?' values\n",
            "Column 'diag_3': 1423 '?' values\n"
          ]
        }
      ],
      "source": [
        "for col in ['race', 'diag_1', 'diag_2', 'diag_3']:\n",
        "    count = (df[col] == '?').sum()\n",
        "    print(f\"Column '{col}': {count} '?' values\")"
      ]
    },
    {
      "cell_type": "markdown",
      "metadata": {
        "id": "ff7877a8"
      },
      "source": [
        "## Explore relationships\n",
        "\n",
        "### Subtask:\n",
        "Investigate potential relationships between columns with missing values and other columns in the dataset to identify suitable columns for imputation.\n"
      ]
    },
    {
      "cell_type": "markdown",
      "metadata": {
        "id": "2d009689"
      },
      "source": [
        "**Reasoning**:\n",
        "Investigate relationships between 'race' and 'gender' to see if gender distribution differs for missing race values.\n",
        "\n"
      ]
    },
    {
      "cell_type": "code",
      "execution_count": 11,
      "metadata": {
        "colab": {
          "base_uri": "https://localhost:8080/",
          "height": 0
        },
        "id": "87c4bf7c",
        "outputId": "78ad85ff-7360-42cb-adae-6111ae3702b4"
      },
      "outputs": [
        {
          "name": "stdout",
          "output_type": "stream",
          "text": [
            "gender\n",
            "Male               1138\n",
            "Female             1133\n",
            "Unknown/Invalid       2\n",
            "Name: count, dtype: int64\n",
            "gender\n",
            "Female             54708\n",
            "Male               47055\n",
            "Unknown/Invalid        3\n",
            "Name: count, dtype: int64\n"
          ]
        }
      ],
      "source": [
        "print(df.loc[df['race'] == '?', 'gender'].value_counts())\n",
        "print(df['gender'].value_counts())"
      ]
    },
    {
      "cell_type": "markdown",
      "metadata": {
        "id": "9d157f16"
      },
      "source": [
        "**Reasoning**:\n",
        "Investigate the relationship between 'race' and 'age' to see if age distribution differs for missing race values.\n",
        "\n"
      ]
    },
    {
      "cell_type": "code",
      "execution_count": 12,
      "metadata": {
        "colab": {
          "base_uri": "https://localhost:8080/",
          "height": 0
        },
        "id": "8819daa9",
        "outputId": "9369d657-e14c-48fa-d493-2fc19691c458"
      },
      "outputs": [
        {
          "name": "stdout",
          "output_type": "stream",
          "text": [
            "age\n",
            "[70-80)     599\n",
            "[60-70)     495\n",
            "[80-90)     397\n",
            "[50-60)     361\n",
            "[40-50)     220\n",
            "[30-40)      76\n",
            "[90-100)     69\n",
            "[20-30)      46\n",
            "[10-20)       9\n",
            "[0-10)        1\n",
            "Name: count, dtype: int64\n",
            "age\n",
            "[70-80)     26068\n",
            "[60-70)     22483\n",
            "[50-60)     17256\n",
            "[80-90)     17197\n",
            "[40-50)      9685\n",
            "[30-40)      3775\n",
            "[90-100)     2793\n",
            "[20-30)      1657\n",
            "[10-20)       691\n",
            "[0-10)        161\n",
            "Name: count, dtype: int64\n"
          ]
        }
      ],
      "source": [
        "print(df.loc[df['race'] == '?', 'age'].value_counts())\n",
        "print(df['age'].value_counts())"
      ]
    },
    {
      "cell_type": "markdown",
      "metadata": {
        "id": "1ebae4ac"
      },
      "source": [
        "**Reasoning**:\n",
        "Investigate relationships between the 'diag_1' column with missing values and other relevant columns by looking at the distribution of 'diag_1' values grouped by 'race'.\n",
        "\n"
      ]
    },
    {
      "cell_type": "code",
      "execution_count": 13,
      "metadata": {
        "colab": {
          "base_uri": "https://localhost:8080/",
          "height": 0
        },
        "id": "1d06c801",
        "outputId": "feca382d-a81d-45af-a35f-48bad263a8d9"
      },
      "outputs": [
        {
          "name": "stdout",
          "output_type": "stream",
          "text": [
            "race\n",
            "AfricanAmerican    9\n",
            "Caucasian          7\n",
            "?                  2\n",
            "Hispanic           2\n",
            "Asian              1\n",
            "Name: count, dtype: int64\n",
            "race\n",
            "Caucasian          76099\n",
            "AfricanAmerican    19210\n",
            "?                   2273\n",
            "Hispanic            2037\n",
            "Other               1506\n",
            "Asian                641\n",
            "Name: count, dtype: int64\n"
          ]
        }
      ],
      "source": [
        "print(df.loc[df['diag_1'] == '?', 'race'].value_counts())\n",
        "print(df['race'].value_counts())"
      ]
    },
    {
      "cell_type": "markdown",
      "metadata": {
        "id": "6dbc342b"
      },
      "source": [
        "**Reasoning**:\n",
        "Investigate relationships between the 'diag_1' column with missing values and other relevant columns by looking at the distribution of 'diag_1' values grouped by 'gender'.\n",
        "\n"
      ]
    },
    {
      "cell_type": "code",
      "execution_count": 14,
      "metadata": {
        "colab": {
          "base_uri": "https://localhost:8080/",
          "height": 0
        },
        "id": "8bec33ed",
        "outputId": "e6c671df-82f5-45b7-dfda-c5a01ee96d28"
      },
      "outputs": [
        {
          "name": "stdout",
          "output_type": "stream",
          "text": [
            "gender\n",
            "Male      16\n",
            "Female     5\n",
            "Name: count, dtype: int64\n",
            "gender\n",
            "Female             54708\n",
            "Male               47055\n",
            "Unknown/Invalid        3\n",
            "Name: count, dtype: int64\n"
          ]
        }
      ],
      "source": [
        "print(df.loc[df['diag_1'] == '?', 'gender'].value_counts())\n",
        "print(df['gender'].value_counts())"
      ]
    },
    {
      "cell_type": "markdown",
      "metadata": {
        "id": "c8a0fe7f"
      },
      "source": [
        "**Reasoning**:\n",
        "Investigate relationships between the 'diag_2' column with missing values and other relevant columns by looking at the distribution of 'diag_2' values grouped by 'race'.\n",
        "\n"
      ]
    },
    {
      "cell_type": "code",
      "execution_count": 15,
      "metadata": {
        "colab": {
          "base_uri": "https://localhost:8080/",
          "height": 0
        },
        "id": "77a1446e",
        "outputId": "7b79c7f2-469b-4051-ded6-94034483a9a6"
      },
      "outputs": [
        {
          "name": "stdout",
          "output_type": "stream",
          "text": [
            "race\n",
            "Caucasian          260\n",
            "AfricanAmerican     59\n",
            "?                   22\n",
            "Hispanic            12\n",
            "Asian                3\n",
            "Other                2\n",
            "Name: count, dtype: int64\n",
            "race\n",
            "Caucasian          76099\n",
            "AfricanAmerican    19210\n",
            "?                   2273\n",
            "Hispanic            2037\n",
            "Other               1506\n",
            "Asian                641\n",
            "Name: count, dtype: int64\n"
          ]
        }
      ],
      "source": [
        "print(df.loc[df['diag_2'] == '?', 'race'].value_counts())\n",
        "print(df['race'].value_counts())"
      ]
    },
    {
      "cell_type": "markdown",
      "metadata": {
        "id": "25ded797"
      },
      "source": [
        "**Reasoning**:\n",
        "Investigate relationships between the 'diag_2' column with missing values and other relevant columns by looking at the distribution of 'diag_2' values grouped by 'gender'.\n",
        "\n"
      ]
    },
    {
      "cell_type": "code",
      "execution_count": 16,
      "metadata": {
        "colab": {
          "base_uri": "https://localhost:8080/",
          "height": 0
        },
        "id": "296e9300",
        "outputId": "31cabc30-997c-412f-921d-907e96f5d33a"
      },
      "outputs": [
        {
          "name": "stdout",
          "output_type": "stream",
          "text": [
            "gender\n",
            "Female    180\n",
            "Male      178\n",
            "Name: count, dtype: int64\n",
            "gender\n",
            "Female             54708\n",
            "Male               47055\n",
            "Unknown/Invalid        3\n",
            "Name: count, dtype: int64\n"
          ]
        }
      ],
      "source": [
        "print(df.loc[df['diag_2'] == '?', 'gender'].value_counts())\n",
        "print(df['gender'].value_counts())"
      ]
    },
    {
      "cell_type": "markdown",
      "metadata": {
        "id": "fbeb07ce"
      },
      "source": [
        "**Reasoning**:\n",
        "Investigate relationships between the 'diag_3' column with missing values and other relevant columns by looking at the distribution of 'diag_3' values grouped by 'race' and 'gender'.\n",
        "\n"
      ]
    },
    {
      "cell_type": "code",
      "execution_count": 17,
      "metadata": {
        "colab": {
          "base_uri": "https://localhost:8080/",
          "height": 0
        },
        "id": "69dd7df0",
        "outputId": "8d549fa8-bcea-453d-cdcb-afc51af7ef0e"
      },
      "outputs": [
        {
          "name": "stdout",
          "output_type": "stream",
          "text": [
            "race\n",
            "Caucasian          948\n",
            "AfricanAmerican    314\n",
            "?                   74\n",
            "Hispanic            49\n",
            "Other               22\n",
            "Asian               16\n",
            "Name: count, dtype: int64\n",
            "gender\n",
            "Female    739\n",
            "Male      684\n",
            "Name: count, dtype: int64\n",
            "race\n",
            "Caucasian          76099\n",
            "AfricanAmerican    19210\n",
            "?                   2273\n",
            "Hispanic            2037\n",
            "Other               1506\n",
            "Asian                641\n",
            "Name: count, dtype: int64\n",
            "gender\n",
            "Female             54708\n",
            "Male               47055\n",
            "Unknown/Invalid        3\n",
            "Name: count, dtype: int64\n"
          ]
        }
      ],
      "source": [
        "print(df.loc[df['diag_3'] == '?', 'race'].value_counts())\n",
        "print(df.loc[df['diag_3'] == '?', 'gender'].value_counts())\n",
        "print(df['race'].value_counts())\n",
        "print(df['gender'].value_counts())"
      ]
    },
    {
      "cell_type": "markdown",
      "metadata": {
        "id": "f4894c7a"
      },
      "source": [
        "## Impute missing values\n",
        "\n",
        "### Subtask:\n",
        "Based on the analysis, implement an appropriate imputation strategy for each column (`race`, `diag_1`, `diag_2`, and `diag_3`). This may involve using the mode, or a more sophisticated method based on the identified relationships.\n"
      ]
    },
    {
      "cell_type": "markdown",
      "metadata": {
        "id": "21e19171"
      },
      "source": [
        "**Reasoning**:\n",
        "Implement the imputation strategy as outlined in the instructions, replacing '?' values in 'race' based on age group mode and in the 'diag' columns with the overall mode.\n",
        "\n"
      ]
    },
    {
      "cell_type": "code",
      "execution_count": 18,
      "metadata": {
        "colab": {
          "base_uri": "https://localhost:8080/",
          "height": 0
        },
        "id": "0aacff23",
        "outputId": "ebed2b1a-cb5a-404b-9c2f-58ee0cc63440"
      },
      "outputs": [
        {
          "name": "stdout",
          "output_type": "stream",
          "text": [
            "Column 'race': 0 '?' values after imputation\n",
            "Column 'diag_1': 0 '?' values after imputation\n",
            "Column 'diag_2': 0 '?' values after imputation\n",
            "Column 'diag_3': 0 '?' values after imputation\n"
          ]
        }
      ],
      "source": [
        "# Impute 'race' based on age group mode\n",
        "for age_group in df['age'].unique():\n",
        "    mode_race = df.loc[(df['age'] == age_group) & (df['race'] != '?'), 'race'].mode()\n",
        "    if not mode_race.empty:\n",
        "        df.loc[(df['age'] == age_group) & (df['race'] == '?'), 'race'] = mode_race[0]\n",
        "\n",
        "# Impute 'diag_1', 'diag_2', and 'diag_3' with overall mode\n",
        "for col in ['diag_1', 'diag_2', 'diag_3']:\n",
        "    mode_diag = df[df[col] != '?'][col].mode()\n",
        "    if not mode_diag.empty:\n",
        "        df[col] = df[col].replace('?', mode_diag[0])\n",
        "\n",
        "# Verify that all '?' values in these four columns have been replaced\n",
        "for col in ['race', 'diag_1', 'diag_2', 'diag_3']:\n",
        "    count = (df[col] == '?').sum()\n",
        "    print(f\"Column '{col}': {count} '?' values after imputation\")"
      ]
    },
    {
      "cell_type": "markdown",
      "metadata": {
        "id": "7bf3339a"
      },
      "source": [
        "## Verify imputation\n",
        "\n",
        "### Subtask:\n",
        "Check if the missing values in the specified columns have been replaced correctly.\n"
      ]
    },
    {
      "cell_type": "markdown",
      "metadata": {
        "id": "6d48e6d9"
      },
      "source": [
        "**Reasoning**:\n",
        "Iterate through the specified columns and count the occurrences of '?'.\n",
        "\n"
      ]
    },
    {
      "cell_type": "code",
      "execution_count": 19,
      "metadata": {
        "colab": {
          "base_uri": "https://localhost:8080/",
          "height": 0
        },
        "id": "41b3396e",
        "outputId": "09862acf-62b4-401c-a020-a49bbf796c12"
      },
      "outputs": [
        {
          "name": "stdout",
          "output_type": "stream",
          "text": [
            "Column 'race': 0 '?' values\n",
            "Column 'diag_1': 0 '?' values\n",
            "Column 'diag_2': 0 '?' values\n",
            "Column 'diag_3': 0 '?' values\n"
          ]
        }
      ],
      "source": [
        "for col in ['race', 'diag_1', 'diag_2', 'diag_3']:\n",
        "    count = (df[col] == '?').sum()\n",
        "    print(f\"Column '{col}': {count} '?' values\")"
      ]
    },
    {
      "cell_type": "markdown",
      "metadata": {
        "id": "7f27918c"
      },
      "source": [
        "## Summary:\n",
        "\n",
        "### Data Analysis Key Findings\n",
        "\n",
        "*   The initial inspection revealed that the `race` column had the most missing values with 2273, followed by `diag_3` (1423), `diag_2` (358), and `diag_1` (21).\n",
        "*   When analyzing missing `race` values, the distribution of `gender` and `age` was somewhat similar to the overall distribution, although older individuals ([70-80), [60-70)) were slightly more prevalent among those with missing race information.\n",
        "*   For missing `diag_1`, `diag_2`, and `diag_3` values, the distributions of `race` and `gender` for rows with missing diagnosis values generally mirrored the overall distributions of these columns.\n",
        "*   Missing values in the `race` column were imputed using the mode specific to each age group.\n",
        "*   Missing values in the `diag_1`, `diag_2`, and `diag_3` columns were imputed using the overall mode of each respective column.\n",
        "*   After imputation, the verification step confirmed that there were no remaining '?' values in the `race`, `diag_1`, `diag_2`, and `diag_3` columns.\n",
        "\n",
        "### Insights or Next Steps\n",
        "\n",
        "*   While age-based imputation was used for `race`, exploring other columns or more sophisticated methods might yield better results for imputing the diagnosis columns (`diag_1`, `diag_2`, and `diag_3`), as simple mode imputation might not capture underlying patterns.\n",
        "*   Consider documenting the imputation strategy and its potential impact on the analysis, especially for the `race` column where a significant number of values were imputed.\n"
      ]
    },
    {
      "cell_type": "code",
      "execution_count": 20,
      "metadata": {
        "colab": {
          "base_uri": "https://localhost:8080/",
          "height": 1123
        },
        "id": "hWss_FBs2JCh",
        "outputId": "df2c42d6-bd16-4e36-98af-122c004f8f49"
      },
      "outputs": [
        {
          "name": "stdout",
          "output_type": "stream",
          "text": [
            "<class 'pandas.core.frame.DataFrame'>\n",
            "RangeIndex: 101766 entries, 0 to 101765\n",
            "Data columns (total 37 columns):\n",
            " #   Column                    Non-Null Count   Dtype \n",
            "---  ------                    --------------   ----- \n",
            " 0   race                      101766 non-null  object\n",
            " 1   gender                    101766 non-null  object\n",
            " 2   age                       101766 non-null  object\n",
            " 3   admission_type_id         101766 non-null  int64 \n",
            " 4   discharge_disposition_id  101766 non-null  int64 \n",
            " 5   admission_source_id       101766 non-null  int64 \n",
            " 6   time_in_hospital          101766 non-null  int64 \n",
            " 7   num_lab_procedures        101766 non-null  int64 \n",
            " 8   num_procedures            101766 non-null  int64 \n",
            " 9   num_medications           101766 non-null  int64 \n",
            " 10  number_outpatient         101766 non-null  int64 \n",
            " 11  number_emergency          101766 non-null  int64 \n",
            " 12  number_inpatient          101766 non-null  int64 \n",
            " 13  diag_1                    101766 non-null  object\n",
            " 14  diag_2                    101766 non-null  object\n",
            " 15  diag_3                    101766 non-null  object\n",
            " 16  number_diagnoses          101766 non-null  int64 \n",
            " 17  metformin                 101766 non-null  object\n",
            " 18  repaglinide               101766 non-null  object\n",
            " 19  nateglinide               101766 non-null  object\n",
            " 20  chlorpropamide            101766 non-null  object\n",
            " 21  glimepiride               101766 non-null  object\n",
            " 22  glipizide                 101766 non-null  object\n",
            " 23  glyburide                 101766 non-null  object\n",
            " 24  pioglitazone              101766 non-null  object\n",
            " 25  rosiglitazone             101766 non-null  object\n",
            " 26  acarbose                  101766 non-null  object\n",
            " 27  miglitol                  101766 non-null  object\n",
            " 28  insulin                   101766 non-null  object\n",
            " 29  glyburide-metformin       101766 non-null  object\n",
            " 30  glipizide-metformin       101766 non-null  object\n",
            " 31  glimepiride-pioglitazone  101766 non-null  object\n",
            " 32  metformin-rosiglitazone   101766 non-null  object\n",
            " 33  metformin-pioglitazone    101766 non-null  object\n",
            " 34  change                    101766 non-null  object\n",
            " 35  diabetesMed               101766 non-null  object\n",
            " 36  readmitted                101766 non-null  object\n",
            "dtypes: int64(11), object(26)\n",
            "memory usage: 28.7+ MB\n"
          ]
        },
        {
          "data": {
            "text/html": [
              "<div>\n",
              "<style scoped>\n",
              "    .dataframe tbody tr th:only-of-type {\n",
              "        vertical-align: middle;\n",
              "    }\n",
              "\n",
              "    .dataframe tbody tr th {\n",
              "        vertical-align: top;\n",
              "    }\n",
              "\n",
              "    .dataframe thead th {\n",
              "        text-align: right;\n",
              "    }\n",
              "</style>\n",
              "<table border=\"1\" class=\"dataframe\">\n",
              "  <thead>\n",
              "    <tr style=\"text-align: right;\">\n",
              "      <th></th>\n",
              "      <th>race</th>\n",
              "      <th>gender</th>\n",
              "      <th>age</th>\n",
              "      <th>admission_type_id</th>\n",
              "      <th>discharge_disposition_id</th>\n",
              "      <th>admission_source_id</th>\n",
              "      <th>time_in_hospital</th>\n",
              "      <th>num_lab_procedures</th>\n",
              "      <th>num_procedures</th>\n",
              "      <th>num_medications</th>\n",
              "      <th>...</th>\n",
              "      <th>miglitol</th>\n",
              "      <th>insulin</th>\n",
              "      <th>glyburide-metformin</th>\n",
              "      <th>glipizide-metformin</th>\n",
              "      <th>glimepiride-pioglitazone</th>\n",
              "      <th>metformin-rosiglitazone</th>\n",
              "      <th>metformin-pioglitazone</th>\n",
              "      <th>change</th>\n",
              "      <th>diabetesMed</th>\n",
              "      <th>readmitted</th>\n",
              "    </tr>\n",
              "  </thead>\n",
              "  <tbody>\n",
              "    <tr>\n",
              "      <th>0</th>\n",
              "      <td>Caucasian</td>\n",
              "      <td>Female</td>\n",
              "      <td>[0-10)</td>\n",
              "      <td>6</td>\n",
              "      <td>25</td>\n",
              "      <td>1</td>\n",
              "      <td>1</td>\n",
              "      <td>41</td>\n",
              "      <td>0</td>\n",
              "      <td>1</td>\n",
              "      <td>...</td>\n",
              "      <td>No</td>\n",
              "      <td>No</td>\n",
              "      <td>No</td>\n",
              "      <td>No</td>\n",
              "      <td>No</td>\n",
              "      <td>No</td>\n",
              "      <td>No</td>\n",
              "      <td>No</td>\n",
              "      <td>No</td>\n",
              "      <td>NO</td>\n",
              "    </tr>\n",
              "    <tr>\n",
              "      <th>1</th>\n",
              "      <td>Caucasian</td>\n",
              "      <td>Female</td>\n",
              "      <td>[10-20)</td>\n",
              "      <td>1</td>\n",
              "      <td>1</td>\n",
              "      <td>7</td>\n",
              "      <td>3</td>\n",
              "      <td>59</td>\n",
              "      <td>0</td>\n",
              "      <td>18</td>\n",
              "      <td>...</td>\n",
              "      <td>No</td>\n",
              "      <td>Up</td>\n",
              "      <td>No</td>\n",
              "      <td>No</td>\n",
              "      <td>No</td>\n",
              "      <td>No</td>\n",
              "      <td>No</td>\n",
              "      <td>Ch</td>\n",
              "      <td>Yes</td>\n",
              "      <td>&gt;30</td>\n",
              "    </tr>\n",
              "    <tr>\n",
              "      <th>2</th>\n",
              "      <td>AfricanAmerican</td>\n",
              "      <td>Female</td>\n",
              "      <td>[20-30)</td>\n",
              "      <td>1</td>\n",
              "      <td>1</td>\n",
              "      <td>7</td>\n",
              "      <td>2</td>\n",
              "      <td>11</td>\n",
              "      <td>5</td>\n",
              "      <td>13</td>\n",
              "      <td>...</td>\n",
              "      <td>No</td>\n",
              "      <td>No</td>\n",
              "      <td>No</td>\n",
              "      <td>No</td>\n",
              "      <td>No</td>\n",
              "      <td>No</td>\n",
              "      <td>No</td>\n",
              "      <td>No</td>\n",
              "      <td>Yes</td>\n",
              "      <td>NO</td>\n",
              "    </tr>\n",
              "    <tr>\n",
              "      <th>3</th>\n",
              "      <td>Caucasian</td>\n",
              "      <td>Male</td>\n",
              "      <td>[30-40)</td>\n",
              "      <td>1</td>\n",
              "      <td>1</td>\n",
              "      <td>7</td>\n",
              "      <td>2</td>\n",
              "      <td>44</td>\n",
              "      <td>1</td>\n",
              "      <td>16</td>\n",
              "      <td>...</td>\n",
              "      <td>No</td>\n",
              "      <td>Up</td>\n",
              "      <td>No</td>\n",
              "      <td>No</td>\n",
              "      <td>No</td>\n",
              "      <td>No</td>\n",
              "      <td>No</td>\n",
              "      <td>Ch</td>\n",
              "      <td>Yes</td>\n",
              "      <td>NO</td>\n",
              "    </tr>\n",
              "    <tr>\n",
              "      <th>4</th>\n",
              "      <td>Caucasian</td>\n",
              "      <td>Male</td>\n",
              "      <td>[40-50)</td>\n",
              "      <td>1</td>\n",
              "      <td>1</td>\n",
              "      <td>7</td>\n",
              "      <td>1</td>\n",
              "      <td>51</td>\n",
              "      <td>0</td>\n",
              "      <td>8</td>\n",
              "      <td>...</td>\n",
              "      <td>No</td>\n",
              "      <td>Steady</td>\n",
              "      <td>No</td>\n",
              "      <td>No</td>\n",
              "      <td>No</td>\n",
              "      <td>No</td>\n",
              "      <td>No</td>\n",
              "      <td>Ch</td>\n",
              "      <td>Yes</td>\n",
              "      <td>NO</td>\n",
              "    </tr>\n",
              "  </tbody>\n",
              "</table>\n",
              "<p>5 rows × 37 columns</p>\n",
              "</div>"
            ],
            "text/plain": [
              "              race  gender      age  admission_type_id  \\\n",
              "0        Caucasian  Female   [0-10)                  6   \n",
              "1        Caucasian  Female  [10-20)                  1   \n",
              "2  AfricanAmerican  Female  [20-30)                  1   \n",
              "3        Caucasian    Male  [30-40)                  1   \n",
              "4        Caucasian    Male  [40-50)                  1   \n",
              "\n",
              "   discharge_disposition_id  admission_source_id  time_in_hospital  \\\n",
              "0                        25                    1                 1   \n",
              "1                         1                    7                 3   \n",
              "2                         1                    7                 2   \n",
              "3                         1                    7                 2   \n",
              "4                         1                    7                 1   \n",
              "\n",
              "   num_lab_procedures  num_procedures  num_medications  ...  miglitol  \\\n",
              "0                  41               0                1  ...        No   \n",
              "1                  59               0               18  ...        No   \n",
              "2                  11               5               13  ...        No   \n",
              "3                  44               1               16  ...        No   \n",
              "4                  51               0                8  ...        No   \n",
              "\n",
              "   insulin  glyburide-metformin glipizide-metformin glimepiride-pioglitazone  \\\n",
              "0       No                   No                  No                       No   \n",
              "1       Up                   No                  No                       No   \n",
              "2       No                   No                  No                       No   \n",
              "3       Up                   No                  No                       No   \n",
              "4   Steady                   No                  No                       No   \n",
              "\n",
              "  metformin-rosiglitazone  metformin-pioglitazone change diabetesMed  \\\n",
              "0                      No                      No     No          No   \n",
              "1                      No                      No     Ch         Yes   \n",
              "2                      No                      No     No         Yes   \n",
              "3                      No                      No     Ch         Yes   \n",
              "4                      No                      No     Ch         Yes   \n",
              "\n",
              "  readmitted  \n",
              "0         NO  \n",
              "1        >30  \n",
              "2         NO  \n",
              "3         NO  \n",
              "4         NO  \n",
              "\n",
              "[5 rows x 37 columns]"
            ]
          },
          "execution_count": 20,
          "metadata": {},
          "output_type": "execute_result"
        }
      ],
      "source": [
        "df.info()\n",
        "df.head()"
      ]
    },
    {
      "cell_type": "markdown",
      "metadata": {
        "id": "7e583a69"
      },
      "source": [
        "[Download preprocessed data](diabetic_data_preprocessed.csv)"
      ]
    },
    {
      "cell_type": "markdown",
      "metadata": {
        "id": "Ma461j6vAD4l"
      },
      "source": [
        "# Random Forest classifier"
      ]
    },
    {
      "cell_type": "code",
      "execution_count": 21,
      "metadata": {
        "id": "gofffE2nAEFE"
      },
      "outputs": [],
      "source": [
        "# df = pd.read_csv(\"diabetesHospital/diabetic_data_preprocessed.csv\")\n",
        "df = pd.read_csv(\"diabetic_data_preprocessed.csv\")"
      ]
    },
    {
      "cell_type": "code",
      "execution_count": 22,
      "metadata": {
        "colab": {
          "base_uri": "https://localhost:8080/",
          "height": 359
        },
        "id": "rA4svuS2AHYs",
        "outputId": "26af0807-9775-47ce-a904-8d7146037e7d"
      },
      "outputs": [
        {
          "data": {
            "text/html": [
              "<div>\n",
              "<style scoped>\n",
              "    .dataframe tbody tr th:only-of-type {\n",
              "        vertical-align: middle;\n",
              "    }\n",
              "\n",
              "    .dataframe tbody tr th {\n",
              "        vertical-align: top;\n",
              "    }\n",
              "\n",
              "    .dataframe thead th {\n",
              "        text-align: right;\n",
              "    }\n",
              "</style>\n",
              "<table border=\"1\" class=\"dataframe\">\n",
              "  <thead>\n",
              "    <tr style=\"text-align: right;\">\n",
              "      <th></th>\n",
              "      <th>race</th>\n",
              "      <th>gender</th>\n",
              "      <th>age</th>\n",
              "      <th>admission_type_id</th>\n",
              "      <th>discharge_disposition_id</th>\n",
              "      <th>admission_source_id</th>\n",
              "      <th>time_in_hospital</th>\n",
              "      <th>num_lab_procedures</th>\n",
              "      <th>num_procedures</th>\n",
              "      <th>num_medications</th>\n",
              "      <th>...</th>\n",
              "      <th>miglitol</th>\n",
              "      <th>insulin</th>\n",
              "      <th>glyburide-metformin</th>\n",
              "      <th>glipizide-metformin</th>\n",
              "      <th>glimepiride-pioglitazone</th>\n",
              "      <th>metformin-rosiglitazone</th>\n",
              "      <th>metformin-pioglitazone</th>\n",
              "      <th>change</th>\n",
              "      <th>diabetesMed</th>\n",
              "      <th>readmitted</th>\n",
              "    </tr>\n",
              "  </thead>\n",
              "  <tbody>\n",
              "    <tr>\n",
              "      <th>0</th>\n",
              "      <td>Caucasian</td>\n",
              "      <td>Female</td>\n",
              "      <td>[0-10)</td>\n",
              "      <td>2.750800</td>\n",
              "      <td>4.031022</td>\n",
              "      <td>-1.169873</td>\n",
              "      <td>-1.137649</td>\n",
              "      <td>-0.106517</td>\n",
              "      <td>-0.785398</td>\n",
              "      <td>-1.848268</td>\n",
              "      <td>...</td>\n",
              "      <td>No</td>\n",
              "      <td>No</td>\n",
              "      <td>No</td>\n",
              "      <td>No</td>\n",
              "      <td>No</td>\n",
              "      <td>No</td>\n",
              "      <td>No</td>\n",
              "      <td>No</td>\n",
              "      <td>No</td>\n",
              "      <td>NO</td>\n",
              "    </tr>\n",
              "    <tr>\n",
              "      <th>1</th>\n",
              "      <td>Caucasian</td>\n",
              "      <td>Female</td>\n",
              "      <td>[10-20)</td>\n",
              "      <td>-0.708461</td>\n",
              "      <td>-0.514312</td>\n",
              "      <td>0.306482</td>\n",
              "      <td>-0.467653</td>\n",
              "      <td>0.808384</td>\n",
              "      <td>-0.785398</td>\n",
              "      <td>0.243390</td>\n",
              "      <td>...</td>\n",
              "      <td>No</td>\n",
              "      <td>Up</td>\n",
              "      <td>No</td>\n",
              "      <td>No</td>\n",
              "      <td>No</td>\n",
              "      <td>No</td>\n",
              "      <td>No</td>\n",
              "      <td>Ch</td>\n",
              "      <td>Yes</td>\n",
              "      <td>&gt;30</td>\n",
              "    </tr>\n",
              "    <tr>\n",
              "      <th>2</th>\n",
              "      <td>AfricanAmerican</td>\n",
              "      <td>Female</td>\n",
              "      <td>[20-30)</td>\n",
              "      <td>-0.708461</td>\n",
              "      <td>-0.514312</td>\n",
              "      <td>0.306482</td>\n",
              "      <td>-0.802651</td>\n",
              "      <td>-1.631351</td>\n",
              "      <td>2.145781</td>\n",
              "      <td>-0.371804</td>\n",
              "      <td>...</td>\n",
              "      <td>No</td>\n",
              "      <td>No</td>\n",
              "      <td>No</td>\n",
              "      <td>No</td>\n",
              "      <td>No</td>\n",
              "      <td>No</td>\n",
              "      <td>No</td>\n",
              "      <td>No</td>\n",
              "      <td>Yes</td>\n",
              "      <td>NO</td>\n",
              "    </tr>\n",
              "    <tr>\n",
              "      <th>3</th>\n",
              "      <td>Caucasian</td>\n",
              "      <td>Male</td>\n",
              "      <td>[30-40)</td>\n",
              "      <td>-0.708461</td>\n",
              "      <td>-0.514312</td>\n",
              "      <td>0.306482</td>\n",
              "      <td>-0.802651</td>\n",
              "      <td>0.045967</td>\n",
              "      <td>-0.199162</td>\n",
              "      <td>-0.002688</td>\n",
              "      <td>...</td>\n",
              "      <td>No</td>\n",
              "      <td>Up</td>\n",
              "      <td>No</td>\n",
              "      <td>No</td>\n",
              "      <td>No</td>\n",
              "      <td>No</td>\n",
              "      <td>No</td>\n",
              "      <td>Ch</td>\n",
              "      <td>Yes</td>\n",
              "      <td>NO</td>\n",
              "    </tr>\n",
              "    <tr>\n",
              "      <th>4</th>\n",
              "      <td>Caucasian</td>\n",
              "      <td>Male</td>\n",
              "      <td>[40-50)</td>\n",
              "      <td>-0.708461</td>\n",
              "      <td>-0.514312</td>\n",
              "      <td>0.306482</td>\n",
              "      <td>-1.137649</td>\n",
              "      <td>0.401761</td>\n",
              "      <td>-0.785398</td>\n",
              "      <td>-0.986997</td>\n",
              "      <td>...</td>\n",
              "      <td>No</td>\n",
              "      <td>Steady</td>\n",
              "      <td>No</td>\n",
              "      <td>No</td>\n",
              "      <td>No</td>\n",
              "      <td>No</td>\n",
              "      <td>No</td>\n",
              "      <td>Ch</td>\n",
              "      <td>Yes</td>\n",
              "      <td>NO</td>\n",
              "    </tr>\n",
              "  </tbody>\n",
              "</table>\n",
              "<p>5 rows × 37 columns</p>\n",
              "</div>"
            ],
            "text/plain": [
              "              race  gender      age  admission_type_id  \\\n",
              "0        Caucasian  Female   [0-10)           2.750800   \n",
              "1        Caucasian  Female  [10-20)          -0.708461   \n",
              "2  AfricanAmerican  Female  [20-30)          -0.708461   \n",
              "3        Caucasian    Male  [30-40)          -0.708461   \n",
              "4        Caucasian    Male  [40-50)          -0.708461   \n",
              "\n",
              "   discharge_disposition_id  admission_source_id  time_in_hospital  \\\n",
              "0                  4.031022            -1.169873         -1.137649   \n",
              "1                 -0.514312             0.306482         -0.467653   \n",
              "2                 -0.514312             0.306482         -0.802651   \n",
              "3                 -0.514312             0.306482         -0.802651   \n",
              "4                 -0.514312             0.306482         -1.137649   \n",
              "\n",
              "   num_lab_procedures  num_procedures  num_medications  ...  miglitol  \\\n",
              "0           -0.106517       -0.785398        -1.848268  ...        No   \n",
              "1            0.808384       -0.785398         0.243390  ...        No   \n",
              "2           -1.631351        2.145781        -0.371804  ...        No   \n",
              "3            0.045967       -0.199162        -0.002688  ...        No   \n",
              "4            0.401761       -0.785398        -0.986997  ...        No   \n",
              "\n",
              "   insulin  glyburide-metformin glipizide-metformin glimepiride-pioglitazone  \\\n",
              "0       No                   No                  No                       No   \n",
              "1       Up                   No                  No                       No   \n",
              "2       No                   No                  No                       No   \n",
              "3       Up                   No                  No                       No   \n",
              "4   Steady                   No                  No                       No   \n",
              "\n",
              "  metformin-rosiglitazone  metformin-pioglitazone change diabetesMed  \\\n",
              "0                      No                      No     No          No   \n",
              "1                      No                      No     Ch         Yes   \n",
              "2                      No                      No     No         Yes   \n",
              "3                      No                      No     Ch         Yes   \n",
              "4                      No                      No     Ch         Yes   \n",
              "\n",
              "  readmitted  \n",
              "0         NO  \n",
              "1        >30  \n",
              "2         NO  \n",
              "3         NO  \n",
              "4         NO  \n",
              "\n",
              "[5 rows x 37 columns]"
            ]
          },
          "execution_count": 22,
          "metadata": {},
          "output_type": "execute_result"
        }
      ],
      "source": [
        "from sklearn.preprocessing import StandardScaler\n",
        "\n",
        "# Select only numeric columns for scaling\n",
        "numeric_cols = df.select_dtypes(include=['int64', 'float64']).columns\n",
        "\n",
        "scaler = StandardScaler()\n",
        "df[numeric_cols] = scaler.fit_transform(df[numeric_cols])\n",
        "\n",
        "df.head()"
      ]
    },
    {
      "cell_type": "code",
      "execution_count": 23,
      "metadata": {
        "colab": {
          "base_uri": "https://localhost:8080/",
          "height": 0
        },
        "id": "Zn4I3V8VAIGt",
        "outputId": "2c31dae4-76b4-4e94-fb47-77c76dc8f641"
      },
      "outputs": [
        {
          "name": "stdout",
          "output_type": "stream",
          "text": [
            "Target variable distribution:\n",
            "readmitted\n",
            "NO     54864\n",
            ">30    35545\n",
            "<30    11357\n",
            "Name: count, dtype: int64\n",
            "\n",
            "Percentages:\n",
            "readmitted\n",
            "NO     53.911916\n",
            ">30    34.928169\n",
            "<30    11.159916\n",
            "Name: proportion, dtype: float64\n"
          ]
        }
      ],
      "source": [
        "# Random Forest Classification for 3-class prediction\n",
        "from sklearn.ensemble import RandomForestClassifier\n",
        "from sklearn.model_selection import train_test_split\n",
        "from sklearn.metrics import classification_report, confusion_matrix, accuracy_score\n",
        "from sklearn.preprocessing import LabelEncoder\n",
        "import matplotlib.pyplot as plt\n",
        "import seaborn as sns\n",
        "\n",
        "# Check the target variable distribution\n",
        "print(\"Target variable distribution:\")\n",
        "print(df['readmitted'].value_counts())\n",
        "print(\"\\nPercentages:\")\n",
        "print(df['readmitted'].value_counts(normalize=True) * 100)"
      ]
    },
    {
      "cell_type": "code",
      "execution_count": 24,
      "metadata": {
        "colab": {
          "base_uri": "https://localhost:8080/",
          "height": 0
        },
        "id": "uybUV4ULCYCr",
        "outputId": "a8be5914-2b3c-4a1b-b18c-3e137d0892eb"
      },
      "outputs": [
        {
          "name": "stdout",
          "output_type": "stream",
          "text": [
            "Training set size: 81412\n",
            "Test set size: 20354\n",
            "Number of features: 36\n"
          ]
        }
      ],
      "source": [
        "# Prepare data for machine learning\n",
        "# Encode categorical variables\n",
        "categorical_cols = df.select_dtypes(include=['object']).columns.tolist()\n",
        "categorical_cols.remove('readmitted')  # Remove target variable\n",
        "\n",
        "le_dict = {}\n",
        "for col in categorical_cols:\n",
        "    le = LabelEncoder()\n",
        "    df[col] = le.fit_transform(df[col])\n",
        "    le_dict[col] = le\n",
        "\n",
        "# Separate features and target\n",
        "X = df.drop('readmitted', axis=1)\n",
        "y = df['readmitted']\n",
        "\n",
        "# Split the data\n",
        "X_train, X_test, y_train, y_test = train_test_split(X, y, test_size=0.2, random_state=42, stratify=y)\n",
        "\n",
        "print(f\"Training set size: {X_train.shape[0]}\")\n",
        "print(f\"Test set size: {X_test.shape[0]}\")\n",
        "print(f\"Number of features: {X_train.shape[1]}\")"
      ]
    },
    {
      "cell_type": "code",
      "execution_count": 25,
      "metadata": {
        "colab": {
          "base_uri": "https://localhost:8080/",
          "height": 0
        },
        "id": "Y1G8B4qlDSU6",
        "outputId": "c0b086a9-7ce6-4a36-a68e-b0a87efa136f"
      },
      "outputs": [
        {
          "name": "stdout",
          "output_type": "stream",
          "text": [
            "Random Forest Accuracy: 0.5233\n",
            "\n",
            "Detailed Classification Report:\n",
            "              precision    recall  f1-score   support\n",
            "\n",
            "         <30       0.21      0.36      0.26      2272\n",
            "         >30       0.47      0.34      0.40      7109\n",
            "          NO       0.66      0.67      0.67     10973\n",
            "\n",
            "    accuracy                           0.52     20354\n",
            "   macro avg       0.44      0.46      0.44     20354\n",
            "weighted avg       0.54      0.52      0.53     20354\n",
            "\n"
          ]
        }
      ],
      "source": [
        "# Train Random Forest Classifier\n",
        "rf_model = RandomForestClassifier(\n",
        "    n_estimators=100,\n",
        "    random_state=42,\n",
        "    max_depth=10,\n",
        "    min_samples_split=5,\n",
        "    min_samples_leaf=2,\n",
        "    class_weight='balanced'  # Handle class imbalance\n",
        ")\n",
        "\n",
        "# Fit the model\n",
        "rf_model.fit(X_train, y_train)\n",
        "\n",
        "# Make predictions\n",
        "y_pred = rf_model.predict(X_test)\n",
        "y_pred_proba = rf_model.predict_proba(X_test)\n",
        "\n",
        "# Evaluate the model\n",
        "accuracy = accuracy_score(y_test, y_pred)\n",
        "print(f\"Random Forest Accuracy: {accuracy:.4f}\")\n",
        "\n",
        "print(\"\\nDetailed Classification Report:\")\n",
        "print(classification_report(y_test, y_pred))"
      ]
    },
    {
      "cell_type": "code",
      "execution_count": 26,
      "metadata": {
        "colab": {
          "base_uri": "https://localhost:8080/",
          "height": 633
        },
        "id": "UIbc9QHdDci_",
        "outputId": "97b8e764-f418-4f6e-bad9-91f34237ffbc"
      },
      "outputs": [
        {
          "data": {
            "image/png": "[encoded data removed]",
            "text/plain": [
              "<Figure size 800x600 with 2 Axes>"
            ]
          },
          "metadata": {},
          "output_type": "display_data"
        },
        {
          "name": "stdout",
          "output_type": "stream",
          "text": [
            "Confusion Matrix:\n",
            "[[ 808  645  819]\n",
            " [1631 2440 3038]\n",
            " [1429 2140 7404]]\n"
          ]
        }
      ],
      "source": [
        "# Create confusion matrix\n",
        "plt.figure(figsize=(8, 6))\n",
        "cm = confusion_matrix(y_test, y_pred)\n",
        "sns.heatmap(cm, annot=True, fmt='d', cmap='Blues',\n",
        "            xticklabels=['<30', '>30', 'No'],\n",
        "            yticklabels=['<30', '>30', 'No'])\n",
        "plt.title('Confusion Matrix - Random Forest')\n",
        "plt.xlabel('Predicted')\n",
        "plt.ylabel('Actual')\n",
        "plt.show()\n",
        "\n",
        "# Print confusion matrix values\n",
        "print(\"Confusion Matrix:\")\n",
        "print(cm)"
      ]
    },
    {
      "cell_type": "code",
      "execution_count": 27,
      "metadata": {
        "colab": {
          "base_uri": "https://localhost:8080/",
          "height": 1000
        },
        "id": "HWVmupluDfAW",
        "outputId": "1b7578a7-32a5-4f10-a6c9-af98cc6c3b5f"
      },
      "outputs": [
        {
          "data": {
            "image/png": "[encoded data removed]",
            "text/plain": [
              "<Figure size 1000x800 with 1 Axes>"
            ]
          },
          "metadata": {},
          "output_type": "display_data"
        },
        {
          "name": "stdout",
          "output_type": "stream",
          "text": [
            "Top 10 Most Important Features:\n",
            "                     feature  importance\n",
            "12          number_inpatient    0.237925\n",
            "4   discharge_disposition_id    0.102695\n",
            "13                    diag_1    0.064478\n",
            "14                    diag_2    0.053686\n",
            "9            num_medications    0.053518\n",
            "15                    diag_3    0.052793\n",
            "11          number_emergency    0.051792\n",
            "7         num_lab_procedures    0.051509\n",
            "16          number_diagnoses    0.050851\n",
            "6           time_in_hospital    0.039608\n"
          ]
        }
      ],
      "source": [
        "# Feature Importance Analysis\n",
        "feature_importance = pd.DataFrame({\n",
        "    'feature': X.columns,\n",
        "    'importance': rf_model.feature_importances_\n",
        "}).sort_values('importance', ascending=False)\n",
        "\n",
        "# Plot top 15 most important features\n",
        "plt.figure(figsize=(10, 8))\n",
        "top_features = feature_importance.head(15)\n",
        "sns.barplot(data=top_features, x='importance', y='feature')\n",
        "plt.title('Top 15 Most Important Features - Random Forest')\n",
        "plt.xlabel('Feature Importance')\n",
        "plt.tight_layout()\n",
        "plt.show()\n",
        "\n",
        "print(\"Top 10 Most Important Features:\")\n",
        "print(feature_importance.head(10))"
      ]
    },
    {
      "cell_type": "code",
      "execution_count": 28,
      "metadata": {
        "colab": {
          "base_uri": "https://localhost:8080/",
          "height": 1000
        },
        "id": "WWBDxevHDhOl",
        "outputId": "714ef7df-0f9a-4072-953b-e248faa28445"
      },
      "outputs": [
        {
          "data": {
            "image/png": "[encoded data removed]",
            "text/plain": [
              "<Figure size 1000x800 with 1 Axes>"
            ]
          },
          "metadata": {},
          "output_type": "display_data"
        },
        {
          "name": "stdout",
          "output_type": "stream",
          "text": [
            "Top 10 Most Important Features:\n",
            "                     feature  importance\n",
            "12          number_inpatient    0.237925\n",
            "4   discharge_disposition_id    0.102695\n",
            "13                    diag_1    0.064478\n",
            "14                    diag_2    0.053686\n",
            "9            num_medications    0.053518\n",
            "15                    diag_3    0.052793\n",
            "11          number_emergency    0.051792\n",
            "7         num_lab_procedures    0.051509\n",
            "16          number_diagnoses    0.050851\n",
            "6           time_in_hospital    0.039608\n"
          ]
        }
      ],
      "source": [
        "# Feature Importance Analysis\n",
        "feature_importance = pd.DataFrame({\n",
        "    'feature': X.columns,\n",
        "    'importance': rf_model.feature_importances_\n",
        "}).sort_values('importance', ascending=False)\n",
        "\n",
        "# Plot top 15 most important features\n",
        "plt.figure(figsize=(10, 8))\n",
        "top_features = feature_importance.head(15)\n",
        "sns.barplot(data=top_features, x='importance', y='feature')\n",
        "plt.title('Top 15 Most Important Features - Random Forest')\n",
        "plt.xlabel('Feature Importance')\n",
        "plt.tight_layout()\n",
        "plt.show()\n",
        "\n",
        "print(\"Top 10 Most Important Features:\")\n",
        "print(feature_importance.head(10))"
      ]
    },
    {
      "cell_type": "code",
      "execution_count": 29,
      "metadata": {
        "colab": {
          "base_uri": "https://localhost:8080/",
          "height": 0
        },
        "id": "s2srB_x9DjFt",
        "outputId": "50475681-6aa2-4b13-c1f5-94e14658f51c"
      },
      "outputs": [
        {
          "name": "stdout",
          "output_type": "stream",
          "text": [
            "Average predicted probabilities for each class:\n",
            "<30: 0.3049\n",
            ">30: 0.3358\n",
            "No: 0.3593\n",
            "\n",
            "==================================================\n",
            "RANDOM FOREST MODEL SUMMARY\n",
            "==================================================\n",
            "Successfully handles 3-class classification\n",
            "Model Accuracy: 0.5233\n",
            "Number of trees: 100\n"
          ]
        }
      ],
      "source": [
        "# Analyze class probabilities\n",
        "class_names = ['<30', '>30', 'No']\n",
        "prob_df = pd.DataFrame(y_pred_proba, columns=[f'Prob_{class_name}' for class_name in class_names])\n",
        "\n",
        "print(\"Average predicted probabilities for each class:\")\n",
        "for i, class_name in enumerate(class_names):\n",
        "    avg_prob = prob_df.iloc[:, i].mean()\n",
        "    print(f\"{class_name}: {avg_prob:.4f}\")\n",
        "\n",
        "# Model performance summary\n",
        "print(\"\\n\" + \"=\"*50)\n",
        "print(\"RANDOM FOREST MODEL SUMMARY\")\n",
        "print(\"=\"*50)\n",
        "print(f\"Successfully handles 3-class classification\")\n",
        "print(f\"Model Accuracy: {accuracy:.4f}\")\n",
        "print(f\"Number of trees: {rf_model.n_estimators}\")"
      ]
    },
    {
      "cell_type": "markdown",
      "metadata": {
        "id": "F3XfqQYqEDpS"
      },
      "source": [
        "## Model Performance Analysis\n",
        "\n",
        "### Issues Identified:\n",
        "- **Poor Predictions**: Average probabilities are nearly equal across all classes (~30-36%)\n",
        "- **Random-like behavior**: Model is not learning meaningful patterns\n",
        "- **Class imbalance**: Need to check actual distribution of target classes\n",
        "\n",
        "### Possible Causes:\n",
        "1. **Data Quality Issues**: Too much noise from imputation\n",
        "2. **Feature Engineering**: Need better feature selection/engineering\n",
        "3. **Class Imbalance**: One class might dominate the dataset\n",
        "4. **Hyperparameter Tuning**: Current parameters may not be optimal\n",
        "5. **Data Leakage**: Features might not be predictive of readmission\n",
        "\n",
        "### Next Steps for Improvement:"
      ]
    },
    {
      "cell_type": "code",
      "execution_count": 30,
      "metadata": {
        "colab": {
          "base_uri": "https://localhost:8080/",
          "height": 0
        },
        "id": "y4m2_tNVDm-m",
        "outputId": "f2605af6-74da-48ed-a78c-b202210a7dd1"
      },
      "outputs": [
        {
          "name": "stdout",
          "output_type": "stream",
          "text": [
            "Actual class distribution in full dataset:\n",
            "readmitted\n",
            "NO     0.539119\n",
            ">30    0.349282\n",
            "<30    0.111599\n",
            "Name: proportion, dtype: float64\n",
            "\n",
            "Class imbalance ratio: 4.83:1\n",
            "\n",
            "Training set distribution:\n",
            "readmitted\n",
            "NO     0.539122\n",
            ">30    0.349285\n",
            "<30    0.111593\n",
            "Name: proportion, dtype: float64\n",
            "\n",
            "Test set distribution:\n",
            "readmitted\n",
            "NO     0.539108\n",
            ">30    0.349268\n",
            "<30    0.111624\n",
            "Name: proportion, dtype: float64\n",
            "\n",
            "Predicted class distribution:\n",
            "NO     0.553257\n",
            ">30    0.256706\n",
            "<30    0.190036\n",
            "Name: proportion, dtype: float64\n",
            "\n",
            "Majority class baseline accuracy: 0.5391\n",
            "Our model accuracy: 0.5233\n",
            "Improvement over baseline: -0.0158\n"
          ]
        }
      ],
      "source": [
        "# Detailed Analysis of Model Performance Issues\n",
        "\n",
        "# 1. Check actual class distribution\n",
        "print(\"Actual class distribution in full dataset:\")\n",
        "class_dist = df['readmitted'].value_counts(normalize=True)\n",
        "print(class_dist)\n",
        "print(f\"\\nClass imbalance ratio: {class_dist.max() / class_dist.min():.2f}:1\")\n",
        "\n",
        "# 2. Check training vs test distribution\n",
        "print(\"\\nTraining set distribution:\")\n",
        "print(y_train.value_counts(normalize=True))\n",
        "print(\"\\nTest set distribution:\")\n",
        "print(y_test.value_counts(normalize=True))\n",
        "\n",
        "# 3. Analyze prediction distribution\n",
        "print(\"\\nPredicted class distribution:\")\n",
        "pred_dist = pd.Series(y_pred).value_counts(normalize=True)\n",
        "print(pred_dist)\n",
        "\n",
        "# 4. Check if model is just predicting majority class\n",
        "print(f\"\\nMajority class baseline accuracy: {class_dist.max():.4f}\")\n",
        "print(f\"Our model accuracy: {accuracy:.4f}\")\n",
        "print(f\"Improvement over baseline: {accuracy - class_dist.max():.4f}\")"
      ]
    },
    {
      "cell_type": "code",
      "execution_count": 31,
      "metadata": {
        "colab": {
          "base_uri": "https://localhost:8080/",
          "height": 0
        },
        "id": "IDdMwf2gEGZe",
        "outputId": "44b343e4-ae3b-4fd3-c822-fd0eef7be6ae"
      },
      "outputs": [
        {
          "name": "stdout",
          "output_type": "stream",
          "text": [
            "Removing features with importance < 0.01:\n",
            "Removing 18 features\n",
            "Reduced from 36 to 18 features\n",
            "\n",
            "Improved Random Forest Accuracy: 0.5523\n",
            "Improvement: +0.0290\n",
            "\n",
            "Improved Classification Report:\n",
            "              precision    recall  f1-score   support\n",
            "\n",
            "         <30       0.25      0.22      0.23      2272\n",
            "         >30       0.47      0.48      0.47      7109\n",
            "          NO       0.66      0.67      0.67     10973\n",
            "\n",
            "    accuracy                           0.55     20354\n",
            "   macro avg       0.46      0.46      0.46     20354\n",
            "weighted avg       0.55      0.55      0.55     20354\n",
            "\n"
          ]
        }
      ],
      "source": [
        "# Improved Random Forest Model\n",
        "\n",
        "# 1. Feature Selection - Remove low-importance features\n",
        "print(\"Removing features with importance < 0.01:\")\n",
        "low_importance_features = feature_importance[feature_importance['importance'] < 0.01]['feature'].tolist()\n",
        "print(f\"Removing {len(low_importance_features)} features\")\n",
        "\n",
        "# Keep only important features\n",
        "important_features = feature_importance[feature_importance['importance'] >= 0.01]['feature'].tolist()\n",
        "X_train_filtered = X_train[important_features]\n",
        "X_test_filtered = X_test[important_features]\n",
        "\n",
        "print(f\"Reduced from {X_train.shape[1]} to {X_train_filtered.shape[1]} features\")\n",
        "\n",
        "# 2. Improved Random Forest with better hyperparameters\n",
        "rf_improved = RandomForestClassifier(\n",
        "    n_estimators=200,           # More trees\n",
        "    max_depth=15,              # Deeper trees\n",
        "    min_samples_split=10,      # More conservative splitting\n",
        "    min_samples_leaf=5,        # Larger leaf nodes\n",
        "    max_features='sqrt',       # Feature subsampling\n",
        "    class_weight='balanced_subsample',  # Better class balancing\n",
        "    random_state=42,\n",
        "    n_jobs=-1                  # Use all cores\n",
        ")\n",
        "\n",
        "# Train improved model\n",
        "rf_improved.fit(X_train_filtered, y_train)\n",
        "\n",
        "# Make predictions\n",
        "y_pred_improved = rf_improved.predict(X_test_filtered)\n",
        "y_pred_proba_improved = rf_improved.predict_proba(X_test_filtered)\n",
        "\n",
        "# Evaluate improved model\n",
        "accuracy_improved = accuracy_score(y_test, y_pred_improved)\n",
        "print(f\"\\nImproved Random Forest Accuracy: {accuracy_improved:.4f}\")\n",
        "print(f\"Improvement: +{accuracy_improved - accuracy:.4f}\")\n",
        "\n",
        "print(\"\\nImproved Classification Report:\")\n",
        "print(classification_report(y_test, y_pred_improved))"
      ]
    },
    {
      "cell_type": "code",
      "execution_count": 32,
      "metadata": {
        "colab": {
          "base_uri": "https://localhost:8080/",
          "height": 607
        },
        "id": "ZfUaL73KEIIW",
        "outputId": "2d1052a8-7636-47ba-9dee-ee9549ced9d5"
      },
      "outputs": [
        {
          "name": "stdout",
          "output_type": "stream",
          "text": [
            "Improved model - Average predicted probabilities for each class:\n",
            "<30: 0.2626\n",
            ">30: 0.3479\n",
            "No: 0.3895\n"
          ]
        },
        {
          "data": {
            "image/png": "[encoded data removed]",
            "text/plain": [
              "<Figure size 1500x600 with 4 Axes>"
            ]
          },
          "metadata": {},
          "output_type": "display_data"
        },
        {
          "name": "stdout",
          "output_type": "stream",
          "text": [
            "\n",
            "Prediction confidence (higher = more confident):\n",
            "Original model: 0.0758\n",
            "Improved model: 0.1056\n"
          ]
        }
      ],
      "source": [
        "import numpy as np\n",
        "\n",
        "# Analyze improved model probabilities\n",
        "print(\"Improved model - Average predicted probabilities for each class:\")\n",
        "for i, class_name in enumerate(class_names):\n",
        "    avg_prob = y_pred_proba_improved[:, i].mean()\n",
        "    print(f\"{class_name}: {avg_prob:.4f}\")\n",
        "\n",
        "# Compare confusion matrices\n",
        "fig, (ax1, ax2) = plt.subplots(1, 2, figsize=(15, 6))\n",
        "\n",
        "# Original model\n",
        "cm1 = confusion_matrix(y_test, y_pred)\n",
        "sns.heatmap(cm1, annot=True, fmt='d', cmap='Blues', ax=ax1,\n",
        "            xticklabels=class_names, yticklabels=class_names)\n",
        "ax1.set_title('Original Random Forest')\n",
        "ax1.set_xlabel('Predicted')\n",
        "ax1.set_ylabel('Actual')\n",
        "\n",
        "# Improved model\n",
        "cm2 = confusion_matrix(y_test, y_pred_improved)\n",
        "sns.heatmap(cm2, annot=True, fmt='d', cmap='Greens', ax=ax2,\n",
        "            xticklabels=class_names, yticklabels=class_names)\n",
        "ax2.set_title('Improved Random Forest')\n",
        "ax2.set_xlabel('Predicted')\n",
        "ax2.set_ylabel('Actual')\n",
        "\n",
        "plt.tight_layout()\n",
        "plt.show()\n",
        "\n",
        "# Show the difference in prediction confidence\n",
        "prob_std_original = np.std(y_pred_proba, axis=1).mean()\n",
        "prob_std_improved = np.std(y_pred_proba_improved, axis=1).mean()\n",
        "print(f\"\\nPrediction confidence (higher = more confident):\")\n",
        "print(f\"Original model: {prob_std_original:.4f}\")\n",
        "print(f\"Improved model: {prob_std_improved:.4f}\")"
      ]
    },
    {
      "cell_type": "markdown",
      "metadata": {
        "id": "ulZZsuuk8Vi3"
      },
      "source": [
        "# Logistic Regression"
      ]
    },
    {
      "cell_type": "code",
      "execution_count": 33,
      "metadata": {
        "id": "TjuwqE4uEJyZ"
      },
      "outputs": [],
      "source": [
        "# df=pd.read_csv('diabetic_data_preprocessed.csv')\n",
        "df = pd.read_csv('diabetic_data_preprocessed.csv')"
      ]
    },
    {
      "cell_type": "code",
      "execution_count": 34,
      "metadata": {
        "colab": {
          "base_uri": "https://localhost:8080/",
          "height": 359
        },
        "id": "-JEp46Gt8bcE",
        "outputId": "e541dbd5-0fb3-4118-fdd5-fb448e38d7ac"
      },
      "outputs": [
        {
          "data": {
            "text/html": [
              "<div>\n",
              "<style scoped>\n",
              "    .dataframe tbody tr th:only-of-type {\n",
              "        vertical-align: middle;\n",
              "    }\n",
              "\n",
              "    .dataframe tbody tr th {\n",
              "        vertical-align: top;\n",
              "    }\n",
              "\n",
              "    .dataframe thead th {\n",
              "        text-align: right;\n",
              "    }\n",
              "</style>\n",
              "<table border=\"1\" class=\"dataframe\">\n",
              "  <thead>\n",
              "    <tr style=\"text-align: right;\">\n",
              "      <th></th>\n",
              "      <th>race</th>\n",
              "      <th>gender</th>\n",
              "      <th>age</th>\n",
              "      <th>admission_type_id</th>\n",
              "      <th>discharge_disposition_id</th>\n",
              "      <th>admission_source_id</th>\n",
              "      <th>time_in_hospital</th>\n",
              "      <th>num_lab_procedures</th>\n",
              "      <th>num_procedures</th>\n",
              "      <th>num_medications</th>\n",
              "      <th>...</th>\n",
              "      <th>miglitol</th>\n",
              "      <th>insulin</th>\n",
              "      <th>glyburide-metformin</th>\n",
              "      <th>glipizide-metformin</th>\n",
              "      <th>glimepiride-pioglitazone</th>\n",
              "      <th>metformin-rosiglitazone</th>\n",
              "      <th>metformin-pioglitazone</th>\n",
              "      <th>change</th>\n",
              "      <th>diabetesMed</th>\n",
              "      <th>readmitted</th>\n",
              "    </tr>\n",
              "  </thead>\n",
              "  <tbody>\n",
              "    <tr>\n",
              "      <th>0</th>\n",
              "      <td>Caucasian</td>\n",
              "      <td>Female</td>\n",
              "      <td>[0-10)</td>\n",
              "      <td>6</td>\n",
              "      <td>25</td>\n",
              "      <td>1</td>\n",
              "      <td>1</td>\n",
              "      <td>41</td>\n",
              "      <td>0</td>\n",
              "      <td>1</td>\n",
              "      <td>...</td>\n",
              "      <td>No</td>\n",
              "      <td>No</td>\n",
              "      <td>No</td>\n",
              "      <td>No</td>\n",
              "      <td>No</td>\n",
              "      <td>No</td>\n",
              "      <td>No</td>\n",
              "      <td>No</td>\n",
              "      <td>No</td>\n",
              "      <td>NO</td>\n",
              "    </tr>\n",
              "    <tr>\n",
              "      <th>1</th>\n",
              "      <td>Caucasian</td>\n",
              "      <td>Female</td>\n",
              "      <td>[10-20)</td>\n",
              "      <td>1</td>\n",
              "      <td>1</td>\n",
              "      <td>7</td>\n",
              "      <td>3</td>\n",
              "      <td>59</td>\n",
              "      <td>0</td>\n",
              "      <td>18</td>\n",
              "      <td>...</td>\n",
              "      <td>No</td>\n",
              "      <td>Up</td>\n",
              "      <td>No</td>\n",
              "      <td>No</td>\n",
              "      <td>No</td>\n",
              "      <td>No</td>\n",
              "      <td>No</td>\n",
              "      <td>Ch</td>\n",
              "      <td>Yes</td>\n",
              "      <td>&gt;30</td>\n",
              "    </tr>\n",
              "    <tr>\n",
              "      <th>2</th>\n",
              "      <td>AfricanAmerican</td>\n",
              "      <td>Female</td>\n",
              "      <td>[20-30)</td>\n",
              "      <td>1</td>\n",
              "      <td>1</td>\n",
              "      <td>7</td>\n",
              "      <td>2</td>\n",
              "      <td>11</td>\n",
              "      <td>5</td>\n",
              "      <td>13</td>\n",
              "      <td>...</td>\n",
              "      <td>No</td>\n",
              "      <td>No</td>\n",
              "      <td>No</td>\n",
              "      <td>No</td>\n",
              "      <td>No</td>\n",
              "      <td>No</td>\n",
              "      <td>No</td>\n",
              "      <td>No</td>\n",
              "      <td>Yes</td>\n",
              "      <td>NO</td>\n",
              "    </tr>\n",
              "    <tr>\n",
              "      <th>3</th>\n",
              "      <td>Caucasian</td>\n",
              "      <td>Male</td>\n",
              "      <td>[30-40)</td>\n",
              "      <td>1</td>\n",
              "      <td>1</td>\n",
              "      <td>7</td>\n",
              "      <td>2</td>\n",
              "      <td>44</td>\n",
              "      <td>1</td>\n",
              "      <td>16</td>\n",
              "      <td>...</td>\n",
              "      <td>No</td>\n",
              "      <td>Up</td>\n",
              "      <td>No</td>\n",
              "      <td>No</td>\n",
              "      <td>No</td>\n",
              "      <td>No</td>\n",
              "      <td>No</td>\n",
              "      <td>Ch</td>\n",
              "      <td>Yes</td>\n",
              "      <td>NO</td>\n",
              "    </tr>\n",
              "    <tr>\n",
              "      <th>4</th>\n",
              "      <td>Caucasian</td>\n",
              "      <td>Male</td>\n",
              "      <td>[40-50)</td>\n",
              "      <td>1</td>\n",
              "      <td>1</td>\n",
              "      <td>7</td>\n",
              "      <td>1</td>\n",
              "      <td>51</td>\n",
              "      <td>0</td>\n",
              "      <td>8</td>\n",
              "      <td>...</td>\n",
              "      <td>No</td>\n",
              "      <td>Steady</td>\n",
              "      <td>No</td>\n",
              "      <td>No</td>\n",
              "      <td>No</td>\n",
              "      <td>No</td>\n",
              "      <td>No</td>\n",
              "      <td>Ch</td>\n",
              "      <td>Yes</td>\n",
              "      <td>NO</td>\n",
              "    </tr>\n",
              "  </tbody>\n",
              "</table>\n",
              "<p>5 rows × 37 columns</p>\n",
              "</div>"
            ],
            "text/plain": [
              "              race  gender      age  admission_type_id  \\\n",
              "0        Caucasian  Female   [0-10)                  6   \n",
              "1        Caucasian  Female  [10-20)                  1   \n",
              "2  AfricanAmerican  Female  [20-30)                  1   \n",
              "3        Caucasian    Male  [30-40)                  1   \n",
              "4        Caucasian    Male  [40-50)                  1   \n",
              "\n",
              "   discharge_disposition_id  admission_source_id  time_in_hospital  \\\n",
              "0                        25                    1                 1   \n",
              "1                         1                    7                 3   \n",
              "2                         1                    7                 2   \n",
              "3                         1                    7                 2   \n",
              "4                         1                    7                 1   \n",
              "\n",
              "   num_lab_procedures  num_procedures  num_medications  ...  miglitol  \\\n",
              "0                  41               0                1  ...        No   \n",
              "1                  59               0               18  ...        No   \n",
              "2                  11               5               13  ...        No   \n",
              "3                  44               1               16  ...        No   \n",
              "4                  51               0                8  ...        No   \n",
              "\n",
              "   insulin  glyburide-metformin glipizide-metformin glimepiride-pioglitazone  \\\n",
              "0       No                   No                  No                       No   \n",
              "1       Up                   No                  No                       No   \n",
              "2       No                   No                  No                       No   \n",
              "3       Up                   No                  No                       No   \n",
              "4   Steady                   No                  No                       No   \n",
              "\n",
              "  metformin-rosiglitazone  metformin-pioglitazone change diabetesMed  \\\n",
              "0                      No                      No     No          No   \n",
              "1                      No                      No     Ch         Yes   \n",
              "2                      No                      No     No         Yes   \n",
              "3                      No                      No     Ch         Yes   \n",
              "4                      No                      No     Ch         Yes   \n",
              "\n",
              "  readmitted  \n",
              "0         NO  \n",
              "1        >30  \n",
              "2         NO  \n",
              "3         NO  \n",
              "4         NO  \n",
              "\n",
              "[5 rows x 37 columns]"
            ]
          },
          "execution_count": 34,
          "metadata": {},
          "output_type": "execute_result"
        }
      ],
      "source": [
        "df.head()"
      ]
    },
    {
      "cell_type": "code",
      "execution_count": 35,
      "metadata": {
        "colab": {
          "base_uri": "https://localhost:8080/",
          "height": 209
        },
        "id": "vjzr-ycz99SJ",
        "outputId": "34a55679-24c3-4440-cbac-98448a944d00"
      },
      "outputs": [
        {
          "data": {
            "text/plain": [
              "readmitted\n",
              "NO     54864\n",
              ">30    35545\n",
              "<30    11357\n",
              "Name: count, dtype: int64"
            ]
          },
          "execution_count": 35,
          "metadata": {},
          "output_type": "execute_result"
        }
      ],
      "source": [
        "df['readmitted'].value_counts()"
      ]
    },
    {
      "cell_type": "code",
      "execution_count": 36,
      "metadata": {
        "id": "mL76PQKG9-IK"
      },
      "outputs": [],
      "source": [
        "def to_binary(value):\n",
        "    if value == 'NO':\n",
        "        return 'N0'\n",
        "    else:\n",
        "        return 'YES'\n",
        "\n",
        "df['readmitted(LR)'] = df['readmitted'].apply(to_binary)"
      ]
    },
    {
      "cell_type": "code",
      "execution_count": 37,
      "metadata": {
        "colab": {
          "base_uri": "https://localhost:8080/",
          "height": 359
        },
        "id": "ljkvc6jk9_k6",
        "outputId": "51774af2-b425-434a-e4aa-dec25fc560df"
      },
      "outputs": [
        {
          "data": {
            "text/html": [
              "<div>\n",
              "<style scoped>\n",
              "    .dataframe tbody tr th:only-of-type {\n",
              "        vertical-align: middle;\n",
              "    }\n",
              "\n",
              "    .dataframe tbody tr th {\n",
              "        vertical-align: top;\n",
              "    }\n",
              "\n",
              "    .dataframe thead th {\n",
              "        text-align: right;\n",
              "    }\n",
              "</style>\n",
              "<table border=\"1\" class=\"dataframe\">\n",
              "  <thead>\n",
              "    <tr style=\"text-align: right;\">\n",
              "      <th></th>\n",
              "      <th>race</th>\n",
              "      <th>gender</th>\n",
              "      <th>age</th>\n",
              "      <th>admission_type_id</th>\n",
              "      <th>discharge_disposition_id</th>\n",
              "      <th>admission_source_id</th>\n",
              "      <th>time_in_hospital</th>\n",
              "      <th>num_lab_procedures</th>\n",
              "      <th>num_procedures</th>\n",
              "      <th>num_medications</th>\n",
              "      <th>...</th>\n",
              "      <th>insulin</th>\n",
              "      <th>glyburide-metformin</th>\n",
              "      <th>glipizide-metformin</th>\n",
              "      <th>glimepiride-pioglitazone</th>\n",
              "      <th>metformin-rosiglitazone</th>\n",
              "      <th>metformin-pioglitazone</th>\n",
              "      <th>change</th>\n",
              "      <th>diabetesMed</th>\n",
              "      <th>readmitted</th>\n",
              "      <th>readmitted(LR)</th>\n",
              "    </tr>\n",
              "  </thead>\n",
              "  <tbody>\n",
              "    <tr>\n",
              "      <th>0</th>\n",
              "      <td>Caucasian</td>\n",
              "      <td>Female</td>\n",
              "      <td>[0-10)</td>\n",
              "      <td>6</td>\n",
              "      <td>25</td>\n",
              "      <td>1</td>\n",
              "      <td>1</td>\n",
              "      <td>41</td>\n",
              "      <td>0</td>\n",
              "      <td>1</td>\n",
              "      <td>...</td>\n",
              "      <td>No</td>\n",
              "      <td>No</td>\n",
              "      <td>No</td>\n",
              "      <td>No</td>\n",
              "      <td>No</td>\n",
              "      <td>No</td>\n",
              "      <td>No</td>\n",
              "      <td>No</td>\n",
              "      <td>NO</td>\n",
              "      <td>N0</td>\n",
              "    </tr>\n",
              "    <tr>\n",
              "      <th>1</th>\n",
              "      <td>Caucasian</td>\n",
              "      <td>Female</td>\n",
              "      <td>[10-20)</td>\n",
              "      <td>1</td>\n",
              "      <td>1</td>\n",
              "      <td>7</td>\n",
              "      <td>3</td>\n",
              "      <td>59</td>\n",
              "      <td>0</td>\n",
              "      <td>18</td>\n",
              "      <td>...</td>\n",
              "      <td>Up</td>\n",
              "      <td>No</td>\n",
              "      <td>No</td>\n",
              "      <td>No</td>\n",
              "      <td>No</td>\n",
              "      <td>No</td>\n",
              "      <td>Ch</td>\n",
              "      <td>Yes</td>\n",
              "      <td>&gt;30</td>\n",
              "      <td>YES</td>\n",
              "    </tr>\n",
              "    <tr>\n",
              "      <th>2</th>\n",
              "      <td>AfricanAmerican</td>\n",
              "      <td>Female</td>\n",
              "      <td>[20-30)</td>\n",
              "      <td>1</td>\n",
              "      <td>1</td>\n",
              "      <td>7</td>\n",
              "      <td>2</td>\n",
              "      <td>11</td>\n",
              "      <td>5</td>\n",
              "      <td>13</td>\n",
              "      <td>...</td>\n",
              "      <td>No</td>\n",
              "      <td>No</td>\n",
              "      <td>No</td>\n",
              "      <td>No</td>\n",
              "      <td>No</td>\n",
              "      <td>No</td>\n",
              "      <td>No</td>\n",
              "      <td>Yes</td>\n",
              "      <td>NO</td>\n",
              "      <td>N0</td>\n",
              "    </tr>\n",
              "    <tr>\n",
              "      <th>3</th>\n",
              "      <td>Caucasian</td>\n",
              "      <td>Male</td>\n",
              "      <td>[30-40)</td>\n",
              "      <td>1</td>\n",
              "      <td>1</td>\n",
              "      <td>7</td>\n",
              "      <td>2</td>\n",
              "      <td>44</td>\n",
              "      <td>1</td>\n",
              "      <td>16</td>\n",
              "      <td>...</td>\n",
              "      <td>Up</td>\n",
              "      <td>No</td>\n",
              "      <td>No</td>\n",
              "      <td>No</td>\n",
              "      <td>No</td>\n",
              "      <td>No</td>\n",
              "      <td>Ch</td>\n",
              "      <td>Yes</td>\n",
              "      <td>NO</td>\n",
              "      <td>N0</td>\n",
              "    </tr>\n",
              "    <tr>\n",
              "      <th>4</th>\n",
              "      <td>Caucasian</td>\n",
              "      <td>Male</td>\n",
              "      <td>[40-50)</td>\n",
              "      <td>1</td>\n",
              "      <td>1</td>\n",
              "      <td>7</td>\n",
              "      <td>1</td>\n",
              "      <td>51</td>\n",
              "      <td>0</td>\n",
              "      <td>8</td>\n",
              "      <td>...</td>\n",
              "      <td>Steady</td>\n",
              "      <td>No</td>\n",
              "      <td>No</td>\n",
              "      <td>No</td>\n",
              "      <td>No</td>\n",
              "      <td>No</td>\n",
              "      <td>Ch</td>\n",
              "      <td>Yes</td>\n",
              "      <td>NO</td>\n",
              "      <td>N0</td>\n",
              "    </tr>\n",
              "  </tbody>\n",
              "</table>\n",
              "<p>5 rows × 38 columns</p>\n",
              "</div>"
            ],
            "text/plain": [
              "              race  gender      age  admission_type_id  \\\n",
              "0        Caucasian  Female   [0-10)                  6   \n",
              "1        Caucasian  Female  [10-20)                  1   \n",
              "2  AfricanAmerican  Female  [20-30)                  1   \n",
              "3        Caucasian    Male  [30-40)                  1   \n",
              "4        Caucasian    Male  [40-50)                  1   \n",
              "\n",
              "   discharge_disposition_id  admission_source_id  time_in_hospital  \\\n",
              "0                        25                    1                 1   \n",
              "1                         1                    7                 3   \n",
              "2                         1                    7                 2   \n",
              "3                         1                    7                 2   \n",
              "4                         1                    7                 1   \n",
              "\n",
              "   num_lab_procedures  num_procedures  num_medications  ...  insulin  \\\n",
              "0                  41               0                1  ...       No   \n",
              "1                  59               0               18  ...       Up   \n",
              "2                  11               5               13  ...       No   \n",
              "3                  44               1               16  ...       Up   \n",
              "4                  51               0                8  ...   Steady   \n",
              "\n",
              "   glyburide-metformin  glipizide-metformin glimepiride-pioglitazone  \\\n",
              "0                   No                   No                       No   \n",
              "1                   No                   No                       No   \n",
              "2                   No                   No                       No   \n",
              "3                   No                   No                       No   \n",
              "4                   No                   No                       No   \n",
              "\n",
              "  metformin-rosiglitazone metformin-pioglitazone  change diabetesMed  \\\n",
              "0                      No                     No      No          No   \n",
              "1                      No                     No      Ch         Yes   \n",
              "2                      No                     No      No         Yes   \n",
              "3                      No                     No      Ch         Yes   \n",
              "4                      No                     No      Ch         Yes   \n",
              "\n",
              "  readmitted readmitted(LR)  \n",
              "0         NO             N0  \n",
              "1        >30            YES  \n",
              "2         NO             N0  \n",
              "3         NO             N0  \n",
              "4         NO             N0  \n",
              "\n",
              "[5 rows x 38 columns]"
            ]
          },
          "execution_count": 37,
          "metadata": {},
          "output_type": "execute_result"
        }
      ],
      "source": [
        "df.head()"
      ]
    },
    {
      "cell_type": "code",
      "execution_count": 38,
      "metadata": {
        "colab": {
          "base_uri": "https://localhost:8080/",
          "height": 178
        },
        "id": "mPfsP__v-A1K",
        "outputId": "cdf2b1f0-f74b-4bd6-edc5-a11d20f6c671"
      },
      "outputs": [
        {
          "data": {
            "text/plain": [
              "readmitted(LR)\n",
              "N0     54864\n",
              "YES    46902\n",
              "Name: count, dtype: int64"
            ]
          },
          "execution_count": 38,
          "metadata": {},
          "output_type": "execute_result"
        }
      ],
      "source": [
        "df['readmitted(LR)'].value_counts()"
      ]
    },
    {
      "cell_type": "code",
      "execution_count": 39,
      "metadata": {
        "colab": {
          "base_uri": "https://localhost:8080/",
          "height": 410
        },
        "id": "wOYStRsG-CUx",
        "outputId": "716970a3-e89b-4010-e96c-b0cf65647bc6"
      },
      "outputs": [
        {
          "data": {
            "image/png": "[encoded data removed]",
            "text/plain": [
              "<Figure size 600x400 with 1 Axes>"
            ]
          },
          "metadata": {},
          "output_type": "display_data"
        }
      ],
      "source": [
        "plt.figure(figsize=(6,4))\n",
        "sns.countplot(x='readmitted(LR)', data=df)\n",
        "plt.title('Distribution of Readmitted Patients')\n",
        "plt.xlabel('Readmitted (0 = No, 1 = Yes)')\n",
        "plt.ylabel('Count')\n",
        "plt.show()"
      ]
    },
    {
      "cell_type": "code",
      "execution_count": 40,
      "metadata": {
        "colab": {
          "base_uri": "https://localhost:8080/",
          "height": 0
        },
        "id": "jria4nW1-DmI",
        "outputId": "9aa17890-18c7-4739-c76b-43907cc9bd31"
      },
      "outputs": [
        {
          "name": "stdout",
          "output_type": "stream",
          "text": [
            "<class 'pandas.core.frame.DataFrame'>\n",
            "RangeIndex: 101766 entries, 0 to 101765\n",
            "Data columns (total 38 columns):\n",
            " #   Column                    Non-Null Count   Dtype \n",
            "---  ------                    --------------   ----- \n",
            " 0   race                      101766 non-null  object\n",
            " 1   gender                    101766 non-null  object\n",
            " 2   age                       101766 non-null  object\n",
            " 3   admission_type_id         101766 non-null  int64 \n",
            " 4   discharge_disposition_id  101766 non-null  int64 \n",
            " 5   admission_source_id       101766 non-null  int64 \n",
            " 6   time_in_hospital          101766 non-null  int64 \n",
            " 7   num_lab_procedures        101766 non-null  int64 \n",
            " 8   num_procedures            101766 non-null  int64 \n",
            " 9   num_medications           101766 non-null  int64 \n",
            " 10  number_outpatient         101766 non-null  int64 \n",
            " 11  number_emergency          101766 non-null  int64 \n",
            " 12  number_inpatient          101766 non-null  int64 \n",
            " 13  diag_1                    101766 non-null  object\n",
            " 14  diag_2                    101766 non-null  object\n",
            " 15  diag_3                    101766 non-null  object\n",
            " 16  number_diagnoses          101766 non-null  int64 \n",
            " 17  metformin                 101766 non-null  object\n",
            " 18  repaglinide               101766 non-null  object\n",
            " 19  nateglinide               101766 non-null  object\n",
            " 20  chlorpropamide            101766 non-null  object\n",
            " 21  glimepiride               101766 non-null  object\n",
            " 22  glipizide                 101766 non-null  object\n",
            " 23  glyburide                 101766 non-null  object\n",
            " 24  pioglitazone              101766 non-null  object\n",
            " 25  rosiglitazone             101766 non-null  object\n",
            " 26  acarbose                  101766 non-null  object\n",
            " 27  miglitol                  101766 non-null  object\n",
            " 28  insulin                   101766 non-null  object\n",
            " 29  glyburide-metformin       101766 non-null  object\n",
            " 30  glipizide-metformin       101766 non-null  object\n",
            " 31  glimepiride-pioglitazone  101766 non-null  object\n",
            " 32  metformin-rosiglitazone   101766 non-null  object\n",
            " 33  metformin-pioglitazone    101766 non-null  object\n",
            " 34  change                    101766 non-null  object\n",
            " 35  diabetesMed               101766 non-null  object\n",
            " 36  readmitted                101766 non-null  object\n",
            " 37  readmitted(LR)            101766 non-null  object\n",
            "dtypes: int64(11), object(27)\n",
            "memory usage: 29.5+ MB\n"
          ]
        }
      ],
      "source": [
        "df.info()"
      ]
    },
    {
      "cell_type": "code",
      "execution_count": 41,
      "metadata": {
        "colab": {
          "base_uri": "https://localhost:8080/",
          "height": 273
        },
        "id": "kAYR3NPB-Eww",
        "outputId": "bc2862a6-b47e-44bc-8c55-036d38c986ac"
      },
      "outputs": [
        {
          "data": {
            "text/html": [
              "<div>\n",
              "<style scoped>\n",
              "    .dataframe tbody tr th:only-of-type {\n",
              "        vertical-align: middle;\n",
              "    }\n",
              "\n",
              "    .dataframe tbody tr th {\n",
              "        vertical-align: top;\n",
              "    }\n",
              "\n",
              "    .dataframe thead th {\n",
              "        text-align: right;\n",
              "    }\n",
              "</style>\n",
              "<table border=\"1\" class=\"dataframe\">\n",
              "  <thead>\n",
              "    <tr style=\"text-align: right;\">\n",
              "      <th></th>\n",
              "      <th>race</th>\n",
              "      <th>gender</th>\n",
              "      <th>age</th>\n",
              "      <th>admission_type_id</th>\n",
              "      <th>discharge_disposition_id</th>\n",
              "      <th>admission_source_id</th>\n",
              "      <th>time_in_hospital</th>\n",
              "      <th>num_lab_procedures</th>\n",
              "      <th>num_procedures</th>\n",
              "      <th>num_medications</th>\n",
              "      <th>...</th>\n",
              "      <th>insulin</th>\n",
              "      <th>glyburide-metformin</th>\n",
              "      <th>glipizide-metformin</th>\n",
              "      <th>glimepiride-pioglitazone</th>\n",
              "      <th>metformin-rosiglitazone</th>\n",
              "      <th>metformin-pioglitazone</th>\n",
              "      <th>change</th>\n",
              "      <th>diabetesMed</th>\n",
              "      <th>readmitted</th>\n",
              "      <th>readmitted(LR)</th>\n",
              "    </tr>\n",
              "  </thead>\n",
              "  <tbody>\n",
              "    <tr>\n",
              "      <th>0</th>\n",
              "      <td>2</td>\n",
              "      <td>0</td>\n",
              "      <td>0</td>\n",
              "      <td>6</td>\n",
              "      <td>25</td>\n",
              "      <td>1</td>\n",
              "      <td>1</td>\n",
              "      <td>41</td>\n",
              "      <td>0</td>\n",
              "      <td>1</td>\n",
              "      <td>...</td>\n",
              "      <td>1</td>\n",
              "      <td>1</td>\n",
              "      <td>0</td>\n",
              "      <td>0</td>\n",
              "      <td>0</td>\n",
              "      <td>0</td>\n",
              "      <td>1</td>\n",
              "      <td>0</td>\n",
              "      <td>2</td>\n",
              "      <td>0</td>\n",
              "    </tr>\n",
              "    <tr>\n",
              "      <th>1</th>\n",
              "      <td>2</td>\n",
              "      <td>0</td>\n",
              "      <td>1</td>\n",
              "      <td>1</td>\n",
              "      <td>1</td>\n",
              "      <td>7</td>\n",
              "      <td>3</td>\n",
              "      <td>59</td>\n",
              "      <td>0</td>\n",
              "      <td>18</td>\n",
              "      <td>...</td>\n",
              "      <td>3</td>\n",
              "      <td>1</td>\n",
              "      <td>0</td>\n",
              "      <td>0</td>\n",
              "      <td>0</td>\n",
              "      <td>0</td>\n",
              "      <td>0</td>\n",
              "      <td>1</td>\n",
              "      <td>1</td>\n",
              "      <td>1</td>\n",
              "    </tr>\n",
              "    <tr>\n",
              "      <th>2</th>\n",
              "      <td>0</td>\n",
              "      <td>0</td>\n",
              "      <td>2</td>\n",
              "      <td>1</td>\n",
              "      <td>1</td>\n",
              "      <td>7</td>\n",
              "      <td>2</td>\n",
              "      <td>11</td>\n",
              "      <td>5</td>\n",
              "      <td>13</td>\n",
              "      <td>...</td>\n",
              "      <td>1</td>\n",
              "      <td>1</td>\n",
              "      <td>0</td>\n",
              "      <td>0</td>\n",
              "      <td>0</td>\n",
              "      <td>0</td>\n",
              "      <td>1</td>\n",
              "      <td>1</td>\n",
              "      <td>2</td>\n",
              "      <td>0</td>\n",
              "    </tr>\n",
              "    <tr>\n",
              "      <th>3</th>\n",
              "      <td>2</td>\n",
              "      <td>1</td>\n",
              "      <td>3</td>\n",
              "      <td>1</td>\n",
              "      <td>1</td>\n",
              "      <td>7</td>\n",
              "      <td>2</td>\n",
              "      <td>44</td>\n",
              "      <td>1</td>\n",
              "      <td>16</td>\n",
              "      <td>...</td>\n",
              "      <td>3</td>\n",
              "      <td>1</td>\n",
              "      <td>0</td>\n",
              "      <td>0</td>\n",
              "      <td>0</td>\n",
              "      <td>0</td>\n",
              "      <td>0</td>\n",
              "      <td>1</td>\n",
              "      <td>2</td>\n",
              "      <td>0</td>\n",
              "    </tr>\n",
              "    <tr>\n",
              "      <th>4</th>\n",
              "      <td>2</td>\n",
              "      <td>1</td>\n",
              "      <td>4</td>\n",
              "      <td>1</td>\n",
              "      <td>1</td>\n",
              "      <td>7</td>\n",
              "      <td>1</td>\n",
              "      <td>51</td>\n",
              "      <td>0</td>\n",
              "      <td>8</td>\n",
              "      <td>...</td>\n",
              "      <td>2</td>\n",
              "      <td>1</td>\n",
              "      <td>0</td>\n",
              "      <td>0</td>\n",
              "      <td>0</td>\n",
              "      <td>0</td>\n",
              "      <td>0</td>\n",
              "      <td>1</td>\n",
              "      <td>2</td>\n",
              "      <td>0</td>\n",
              "    </tr>\n",
              "  </tbody>\n",
              "</table>\n",
              "<p>5 rows × 38 columns</p>\n",
              "</div>"
            ],
            "text/plain": [
              "   race  gender  age  admission_type_id  discharge_disposition_id  \\\n",
              "0     2       0    0                  6                        25   \n",
              "1     2       0    1                  1                         1   \n",
              "2     0       0    2                  1                         1   \n",
              "3     2       1    3                  1                         1   \n",
              "4     2       1    4                  1                         1   \n",
              "\n",
              "   admission_source_id  time_in_hospital  num_lab_procedures  num_procedures  \\\n",
              "0                    1                 1                  41               0   \n",
              "1                    7                 3                  59               0   \n",
              "2                    7                 2                  11               5   \n",
              "3                    7                 2                  44               1   \n",
              "4                    7                 1                  51               0   \n",
              "\n",
              "   num_medications  ...  insulin  glyburide-metformin  glipizide-metformin  \\\n",
              "0                1  ...        1                    1                    0   \n",
              "1               18  ...        3                    1                    0   \n",
              "2               13  ...        1                    1                    0   \n",
              "3               16  ...        3                    1                    0   \n",
              "4                8  ...        2                    1                    0   \n",
              "\n",
              "   glimepiride-pioglitazone  metformin-rosiglitazone  metformin-pioglitazone  \\\n",
              "0                         0                        0                       0   \n",
              "1                         0                        0                       0   \n",
              "2                         0                        0                       0   \n",
              "3                         0                        0                       0   \n",
              "4                         0                        0                       0   \n",
              "\n",
              "   change  diabetesMed  readmitted  readmitted(LR)  \n",
              "0       1            0           2               0  \n",
              "1       0            1           1               1  \n",
              "2       1            1           2               0  \n",
              "3       0            1           2               0  \n",
              "4       0            1           2               0  \n",
              "\n",
              "[5 rows x 38 columns]"
            ]
          },
          "execution_count": 41,
          "metadata": {},
          "output_type": "execute_result"
        }
      ],
      "source": [
        "categorical=df.select_dtypes(include=['object']).columns\n",
        "\n",
        "le=LabelEncoder()\n",
        "\n",
        "for col in categorical:\n",
        "    df[col]=le.fit_transform(df[col])\n",
        "\n",
        "df.head()"
      ]
    },
    {
      "cell_type": "code",
      "execution_count": 42,
      "metadata": {
        "id": "uI2GLroK-GLA"
      },
      "outputs": [],
      "source": [
        "X=df.drop(['readmitted(LR)','readmitted'],axis=1)\n",
        "y=df['readmitted(LR)']"
      ]
    },
    {
      "cell_type": "code",
      "execution_count": 43,
      "metadata": {
        "id": "ULFl2xn--IOv"
      },
      "outputs": [],
      "source": [
        "X_train,X_test,y_train,y_test=train_test_split(X,y,test_size=0.2,random_state=42)"
      ]
    },
    {
      "cell_type": "code",
      "execution_count": 44,
      "metadata": {
        "colab": {
          "base_uri": "https://localhost:8080/",
          "height": 0
        },
        "id": "aL0P4jI7-HT2",
        "outputId": "2255f7ff-2e01-4e10-ea6d-dd8b56585b18"
      },
      "outputs": [
        {
          "name": "stderr",
          "output_type": "stream",
          "text": [
            "/Library/Frameworks/Python.framework/Versions/3.13/lib/python3.13/site-packages/sklearn/linear_model/_linear_loss.py:200: RuntimeWarning: divide by zero encountered in matmul\n",
            "  raw_prediction = X @ weights + intercept\n",
            "/Library/Frameworks/Python.framework/Versions/3.13/lib/python3.13/site-packages/sklearn/linear_model/_linear_loss.py:200: RuntimeWarning: overflow encountered in matmul\n",
            "  raw_prediction = X @ weights + intercept\n",
            "/Library/Frameworks/Python.framework/Versions/3.13/lib/python3.13/site-packages/sklearn/linear_model/_linear_loss.py:200: RuntimeWarning: invalid value encountered in matmul\n",
            "  raw_prediction = X @ weights + intercept\n",
            "/Library/Frameworks/Python.framework/Versions/3.13/lib/python3.13/site-packages/sklearn/linear_model/_linear_loss.py:330: RuntimeWarning: divide by zero encountered in matmul\n",
            "  grad[:n_features] = X.T @ grad_pointwise + l2_reg_strength * weights\n",
            "/Library/Frameworks/Python.framework/Versions/3.13/lib/python3.13/site-packages/sklearn/linear_model/_linear_loss.py:330: RuntimeWarning: overflow encountered in matmul\n",
            "  grad[:n_features] = X.T @ grad_pointwise + l2_reg_strength * weights\n",
            "/Library/Frameworks/Python.framework/Versions/3.13/lib/python3.13/site-packages/sklearn/linear_model/_linear_loss.py:330: RuntimeWarning: invalid value encountered in matmul\n",
            "  grad[:n_features] = X.T @ grad_pointwise + l2_reg_strength * weights\n",
            "/Library/Frameworks/Python.framework/Versions/3.13/lib/python3.13/site-packages/sklearn/linear_model/_logistic.py:470: ConvergenceWarning: lbfgs failed to converge after 1000 iteration(s) (status=1):\n",
            "STOP: TOTAL NO. OF ITERATIONS REACHED LIMIT\n",
            "\n",
            "Increase the number of iterations to improve the convergence (max_iter=1000).\n",
            "You might also want to scale the data as shown in:\n",
            "    https://scikit-learn.org/stable/modules/preprocessing.html\n",
            "Please also refer to the documentation for alternative solver options:\n",
            "    https://scikit-learn.org/stable/modules/linear_model.html#logistic-regression\n",
            "  n_iter_i = _check_optimize_result(\n",
            "/Library/Frameworks/Python.framework/Versions/3.13/lib/python3.13/site-packages/sklearn/utils/extmath.py:203: RuntimeWarning: divide by zero encountered in matmul\n",
            "  ret = a @ b\n",
            "/Library/Frameworks/Python.framework/Versions/3.13/lib/python3.13/site-packages/sklearn/utils/extmath.py:203: RuntimeWarning: overflow encountered in matmul\n",
            "  ret = a @ b\n",
            "/Library/Frameworks/Python.framework/Versions/3.13/lib/python3.13/site-packages/sklearn/utils/extmath.py:203: RuntimeWarning: invalid value encountered in matmul\n",
            "  ret = a @ b\n"
          ]
        }
      ],
      "source": [
        "from sklearn.linear_model import LogisticRegression\n",
        "\n",
        "lr=LogisticRegression(max_iter=1000)\n",
        "lr.fit(X_train,y_train)\n",
        "y_pred=lr.predict(X_test)"
      ]
    },
    {
      "cell_type": "code",
      "execution_count": 45,
      "metadata": {
        "colab": {
          "base_uri": "https://localhost:8080/",
          "height": 0
        },
        "id": "LvEHUcmN-Jsy",
        "outputId": "3a27c3d5-dbcc-4538-e568-2cb03989555b"
      },
      "outputs": [
        {
          "name": "stdout",
          "output_type": "stream",
          "text": [
            "Accuracy: 61.54%\n",
            "F1 Score: 49.48%\n",
            "ROC AUC Score: 60.07%\n",
            "Recall: 40.78%\n",
            "Precision: 62.90%\n"
          ]
        }
      ],
      "source": [
        "from sklearn.metrics import accuracy_score, confusion_matrix, classification_report,f1_score,roc_auc_score,recall_score,precision_score\n",
        "\n",
        "accuracy=accuracy_score(y_test,y_pred)\n",
        "conf_matrix=confusion_matrix(y_test,y_pred)\n",
        "class_report=classification_report(y_test,y_pred)\n",
        "f1=f1_score(y_test,y_pred)\n",
        "roc_auc=roc_auc_score(y_test,y_pred)\n",
        "recall=recall_score(y_test,y_pred)\n",
        "precision=precision_score(y_test,y_pred)\n",
        "print(f'Accuracy: {accuracy*100:0.2f}%')\n",
        "print(f'F1 Score: {f1*100:0.2f}%')\n",
        "print(f'ROC AUC Score: {roc_auc*100:0.2f}%')\n",
        "print(f'Recall: {recall*100:0.2f}%')\n",
        "print(f'Precision: {precision*100:0.2f}%')"
      ]
    },
    {
      "cell_type": "code",
      "execution_count": 46,
      "metadata": {
        "colab": {
          "base_uri": "https://localhost:8080/",
          "height": 0
        },
        "id": "hBnxZrZs-Qrp",
        "outputId": "12eaf98c-669d-44bc-c8ed-1e593bc614a8"
      },
      "outputs": [
        {
          "name": "stdout",
          "output_type": "stream",
          "text": [
            "Classification Report:\n",
            "              precision    recall  f1-score   support\n",
            "\n",
            "           0       0.61      0.79      0.69     10952\n",
            "           1       0.63      0.41      0.49      9402\n",
            "\n",
            "    accuracy                           0.62     20354\n",
            "   macro avg       0.62      0.60      0.59     20354\n",
            "weighted avg       0.62      0.62      0.60     20354\n",
            "\n"
          ]
        }
      ],
      "source": [
        "print(f'Classification Report:\\n{class_report}')"
      ]
    },
    {
      "cell_type": "code",
      "execution_count": 47,
      "metadata": {
        "colab": {
          "base_uri": "https://localhost:8080/",
          "height": 462
        },
        "id": "DLHVw72E-WRk",
        "outputId": "21e70d8a-7f42-413d-c167-18e4811dded9"
      },
      "outputs": [
        {
          "name": "stdout",
          "output_type": "stream",
          "text": [
            "Confusion Matrix:\n",
            "[[8691 2261]\n",
            " [5568 3834]]\n"
          ]
        },
        {
          "data": {
            "image/png": "[encoded data removed]",
            "text/plain": [
              "<Figure size 600x400 with 2 Axes>"
            ]
          },
          "metadata": {},
          "output_type": "display_data"
        }
      ],
      "source": [
        "print(f'Confusion Matrix:\\n{conf_matrix}')\n",
        "plt.figure(figsize=(6,4))\n",
        "sns.heatmap(conf_matrix, annot=True, fmt='d', cmap='Blues',\n",
        "            xticklabels=['No Readmission', 'Readmitted'],\n",
        "            yticklabels=['No Readmission', 'Readmitted'])\n",
        "plt.ylabel('Actual')\n",
        "plt.xlabel('Predicted')\n",
        "plt.title('Confusion Matrix')\n",
        "plt.show()"
      ]
    },
    {
      "cell_type": "markdown",
      "metadata": {
        "id": "to7W8DrA-WDw"
      },
      "source": [
        "### Key Points:\n",
        "\n",
        "1. **Accuracy**: The model correctly predicted 61.66% of the test data, which is a general measure of its overall performance.\n",
        "\n",
        "2. **F1 Score**: At 49.14%, the F1 score indicates a moderate balance between precision (correct positive predictions) and recall (coverage of actual positives). This suggests the model struggles to balance false positives and false negatives.\n",
        "\n",
        "3. **ROC AUC Score**: A score of 60.13% shows the model's ability to distinguish between the two classes (readmitted vs. not readmitted). While better than random guessing (50%), it indicates room for improvement.\n",
        "\n",
        "4. **Recall**: The recall of 40.10% for positive cases (readmitted) suggests the model misses a significant portion of actual readmissions.\n",
        "\n",
        "5. **Precision**: With 63.45% precision, the model is relatively good at ensuring that its positive predictions (readmitted) are correct.\n",
        "\n",
        "### Confusion Matrix:\n",
        "- The model predicted \"No Readmission\" (0) correctly 8780 times but misclassified 2172 cases as \"Readmitted\" (1).\n",
        "- For \"Readmitted\" (1), it correctly predicted 3770 cases but missed 5632 cases, classifying them as \"No Readmission\" (0). This highlights a bias toward predicting \"No Readmission.\"\n",
        "\n",
        "### Classification Report:\n",
        "- Class 0 (No Readmission) has higher recall (0.80) and F1-score (0.69), indicating better performance for this class.\n",
        "- Class 1 (Readmitted) has lower recall (0.40) and F1-score (0.49), showing the model struggles to identify readmitted patients.\n",
        "\n",
        "### Summary:\n",
        "The model performs better at predicting \"No Readmission\" than \"Readmitted,\" as seen in the confusion matrix and classification report. While precision is decent, the low recall for \"Readmitted\" indicates the model fails to capture many actual readmissions, which could be critical in healthcare scenarios. Improvements in recall and overall balance between classes are needed."
      ]
    }
  ],
  "metadata": {
    "colab": {
      "provenance": [],
      "toc_visible": true
    },
    "kernelspec": {
      "display_name": "Python 3",
      "name": "python3"
    },
    "language_info": {
      "codemirror_mode": {
        "name": "ipython",
        "version": 3
      },
      "file_extension": ".py",
      "mimetype": "text/x-python",
      "name": "python",
      "nbconvert_exporter": "python",
      "pygments_lexer": "ipython3",
      "version": "3.13.5"
    }
  },
  "nbformat": 4,
  "nbformat_minor": 0
}
